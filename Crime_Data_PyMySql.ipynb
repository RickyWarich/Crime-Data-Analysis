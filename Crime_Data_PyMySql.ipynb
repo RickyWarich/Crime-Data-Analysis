{
 "cells": [
  {
   "cell_type": "markdown",
   "id": "566ca9a9",
   "metadata": {},
   "source": [
    "<p style='text-align: center; font-size: 50px; background-color: #f0ad4e; padding: 12px;'><b>ANALYSIS OF CRIME DATA</b></p>\n",
    "\n",
    "\n"
   ]
  },
  {
   "cell_type": "markdown",
   "id": "986742ae",
   "metadata": {},
   "source": [
    "<div style=\"background-color: #dcedc8; color: #2e7d32; padding: 10px;\">\n",
    "    <h3>Contents</h3>\n",
    "    <ul>\n",
    "        <li>Overview Of the data</li>\n",
    "        <li>Creating a connection between Mysql and Python</li>\n",
    "        <li>Importing important Libraries</li>\n",
    "        <li>Converting SQL Data into Pandas DataFrame</li>\n",
    "        <li>Exploring Data via graphs, mathematical functions, etc.</li>\n",
    "        <li>Answering the relevant questions as per the Problem Statements</li>\n",
    "        <li>Getting into the conclusion</li>\n",
    "    </ul>\n",
    "</div>\n"
   ]
  },
  {
   "attachments": {},
   "cell_type": "markdown",
   "id": "78d2ef4f",
   "metadata": {},
   "source": [
    "# Overview Of the Data\n",
    "\n",
    "   This dataset provides a detailed compilation of crime reports, offering insights into various aspects of reported incidents.    It includes information about the time and location of the crimes, details about the victims, and descriptions of the            offenses. This dataset can be instrumental in understanding crime patterns and assisting in law enforcement and public safety    efforts.\n",
    "   \n",
    "   \n",
    "   \n",
    "   \n",
    "   DR_NO = Unique Numeric code representing the crime in a division\n",
    "   \n",
    "   Date_Rptd = Date when the crime was reported\n",
    "   \n",
    "   DATE_OCC = Actual date and time when the crime occurred\n",
    "   \n",
    "   AREA_NAME = Name of the area where the crime occurred\n",
    "   \n",
    "   Crm_Cd = Numeric code representing the type of crime\n",
    "   \n",
    "   Crm_Cd_Desc = Detailed description of the crime\n",
    "   \n",
    "   Vict_Age = Age of the victim\n",
    "   \n",
    "   Vict_Sex = Gender of the victim\n",
    "   \n",
    "   Premis_Desc\t= Description of the premise where crime occurred\n",
    "   \n",
    "   Status = Status of the crime report [AO,AA,IC,JO]\n",
    "   \n",
    "   Location = General location description of the crime\n",
    "   \n",
    "   LAT = Latitude coordinate of the crime location\n",
    "   \n",
    "   LON = Longitude coordinate of the crime location\n",
    "   \n",
    "   \n"
   ]
  },
  {
   "cell_type": "markdown",
   "id": "299b96ea",
   "metadata": {},
   "source": [
    "# Installing PyMySql"
   ]
  },
  {
   "cell_type": "code",
   "execution_count": 1,
   "id": "35a7a72e",
   "metadata": {},
   "outputs": [],
   "source": [
    "#pip install pymysql"
   ]
  },
  {
   "cell_type": "code",
   "execution_count": 2,
   "id": "8e0148e4",
   "metadata": {},
   "outputs": [],
   "source": [
    "import pymysql\n",
    "\n",
    "# Connect to the database\n",
    "connection = pymysql.connect(host='localhost',\n",
    "                             user='root',\n",
    "                             password=\"123456789\",\n",
    "                             database='crime_dataset'\n",
    "                             )\n"
   ]
  },
  {
   "cell_type": "markdown",
   "id": "6383f478",
   "metadata": {},
   "source": [
    "# Importing Important Libraries"
   ]
  },
  {
   "cell_type": "code",
   "execution_count": 3,
   "id": "edfc822d",
   "metadata": {},
   "outputs": [],
   "source": [
    "import pandas as pd                                       #for data exploration\n",
    "import numpy as np                                        #for mathematical calculations\n",
    "import matplotlib.pyplot as plt                           #for graphs\n",
    "import seaborn as sns                                     #for advanced EDA\n",
    "import plotly.express as px                               #for map pointing"
   ]
  },
  {
   "cell_type": "markdown",
   "id": "112a70a2",
   "metadata": {},
   "source": [
    "# Converting the database information into Dataframe "
   ]
  },
  {
   "cell_type": "code",
   "execution_count": 4,
   "id": "abbc8e78",
   "metadata": {},
   "outputs": [
    {
     "name": "stderr",
     "output_type": "stream",
     "text": [
      "C:\\Users\\ricky\\AppData\\Local\\Temp\\ipykernel_17872\\360726825.py:1: UserWarning: pandas only supports SQLAlchemy connectable (engine/connection) or database string URI or sqlite3 DBAPI2 connection. Other DBAPI2 objects are not tested. Please consider using SQLAlchemy.\n",
      "  df = pd.read_sql_query(\"Select * from crime_data\",connection,parse_dates=True)\n"
     ]
    }
   ],
   "source": [
    "df = pd.read_sql_query(\"Select * from crime_data\",connection,parse_dates=True)"
   ]
  },
  {
   "cell_type": "code",
   "execution_count": 5,
   "id": "21a412bb",
   "metadata": {
    "scrolled": true
   },
   "outputs": [
    {
     "data": {
      "text/html": [
       "<div>\n",
       "<style scoped>\n",
       "    .dataframe tbody tr th:only-of-type {\n",
       "        vertical-align: middle;\n",
       "    }\n",
       "\n",
       "    .dataframe tbody tr th {\n",
       "        vertical-align: top;\n",
       "    }\n",
       "\n",
       "    .dataframe thead th {\n",
       "        text-align: right;\n",
       "    }\n",
       "</style>\n",
       "<table border=\"1\" class=\"dataframe\">\n",
       "  <thead>\n",
       "    <tr style=\"text-align: right;\">\n",
       "      <th></th>\n",
       "      <th>DR_NO</th>\n",
       "      <th>Date_Rptd</th>\n",
       "      <th>DATE_OCC</th>\n",
       "      <th>AREA_NAME</th>\n",
       "      <th>Crm_Cd</th>\n",
       "      <th>Crm_Cd_Desc</th>\n",
       "      <th>Vict_Age</th>\n",
       "      <th>Vict_Sex</th>\n",
       "      <th>Premis_Desc</th>\n",
       "      <th>Status</th>\n",
       "      <th>Location</th>\n",
       "      <th>LAT</th>\n",
       "      <th>LON</th>\n",
       "    </tr>\n",
       "  </thead>\n",
       "  <tbody>\n",
       "    <tr>\n",
       "      <th>0</th>\n",
       "      <td>10304468</td>\n",
       "      <td>01-08-2020</td>\n",
       "      <td>01-08-2020</td>\n",
       "      <td>Southwest</td>\n",
       "      <td>624</td>\n",
       "      <td>BATTERY - SIMPLE ASSAULT</td>\n",
       "      <td>36</td>\n",
       "      <td>F</td>\n",
       "      <td>SINGLE FAMILY DWELLING</td>\n",
       "      <td>AO</td>\n",
       "      <td>1100 W 39TH PL</td>\n",
       "      <td>34.01</td>\n",
       "      <td>-118.30</td>\n",
       "    </tr>\n",
       "    <tr>\n",
       "      <th>1</th>\n",
       "      <td>190101086</td>\n",
       "      <td>01-02-2020</td>\n",
       "      <td>01-01-2020</td>\n",
       "      <td>Central</td>\n",
       "      <td>624</td>\n",
       "      <td>BATTERY - SIMPLE ASSAULT</td>\n",
       "      <td>25</td>\n",
       "      <td>M</td>\n",
       "      <td>SIDEWALK</td>\n",
       "      <td>IC</td>\n",
       "      <td>700 S HILL ST</td>\n",
       "      <td>34.05</td>\n",
       "      <td>-118.25</td>\n",
       "    </tr>\n",
       "    <tr>\n",
       "      <th>2</th>\n",
       "      <td>191501505</td>\n",
       "      <td>01-01-2020</td>\n",
       "      <td>01-01-2020</td>\n",
       "      <td>N Hollywood</td>\n",
       "      <td>745</td>\n",
       "      <td>VANDALISM - MISDEAMEANOR ($399 OR UNDER)</td>\n",
       "      <td>76</td>\n",
       "      <td>F</td>\n",
       "      <td>MULTI-UNIT DWELLING (APARTMENT, DUPLEX, ETC)</td>\n",
       "      <td>IC</td>\n",
       "      <td>5400 CORTEEN PL</td>\n",
       "      <td>34.17</td>\n",
       "      <td>-118.40</td>\n",
       "    </tr>\n",
       "    <tr>\n",
       "      <th>3</th>\n",
       "      <td>191921269</td>\n",
       "      <td>01-01-2020</td>\n",
       "      <td>01-01-2020</td>\n",
       "      <td>Mission</td>\n",
       "      <td>740</td>\n",
       "      <td>VANDALISM - FELONY ($400 &amp; OVER, ALL CHURCH VA...</td>\n",
       "      <td>31</td>\n",
       "      <td>X</td>\n",
       "      <td>BEAUTY SUPPLY STORE</td>\n",
       "      <td>IC</td>\n",
       "      <td>14400 TITUS ST</td>\n",
       "      <td>34.22</td>\n",
       "      <td>-118.45</td>\n",
       "    </tr>\n",
       "    <tr>\n",
       "      <th>4</th>\n",
       "      <td>200100502</td>\n",
       "      <td>01-02-2020</td>\n",
       "      <td>01-02-2020</td>\n",
       "      <td>Central</td>\n",
       "      <td>442</td>\n",
       "      <td>SHOPLIFTING - PETTY THEFT ($950 &amp; UNDER)</td>\n",
       "      <td>23</td>\n",
       "      <td>M</td>\n",
       "      <td>DEPARTMENT STORE</td>\n",
       "      <td>IC</td>\n",
       "      <td>700 S FIGUEROA ST</td>\n",
       "      <td>34.05</td>\n",
       "      <td>-118.26</td>\n",
       "    </tr>\n",
       "    <tr>\n",
       "      <th>...</th>\n",
       "      <td>...</td>\n",
       "      <td>...</td>\n",
       "      <td>...</td>\n",
       "      <td>...</td>\n",
       "      <td>...</td>\n",
       "      <td>...</td>\n",
       "      <td>...</td>\n",
       "      <td>...</td>\n",
       "      <td>...</td>\n",
       "      <td>...</td>\n",
       "      <td>...</td>\n",
       "      <td>...</td>\n",
       "      <td>...</td>\n",
       "    </tr>\n",
       "    <tr>\n",
       "      <th>494</th>\n",
       "      <td>200106614</td>\n",
       "      <td>02-07-2020</td>\n",
       "      <td>02-07-2020</td>\n",
       "      <td>Central</td>\n",
       "      <td>624</td>\n",
       "      <td>BATTERY - SIMPLE ASSAULT</td>\n",
       "      <td>33</td>\n",
       "      <td>M</td>\n",
       "      <td>SIDEWALK</td>\n",
       "      <td>IC</td>\n",
       "      <td>2400 ELLENDALE PL</td>\n",
       "      <td>34.05</td>\n",
       "      <td>-118.26</td>\n",
       "    </tr>\n",
       "    <tr>\n",
       "      <th>495</th>\n",
       "      <td>200106615</td>\n",
       "      <td>02-07-2020</td>\n",
       "      <td>02-07-2020</td>\n",
       "      <td>Central</td>\n",
       "      <td>624</td>\n",
       "      <td>BATTERY - SIMPLE ASSAULT</td>\n",
       "      <td>25</td>\n",
       "      <td>M</td>\n",
       "      <td>SIDEWALK</td>\n",
       "      <td>IC</td>\n",
       "      <td>39TH PL</td>\n",
       "      <td>34.05</td>\n",
       "      <td>-118.26</td>\n",
       "    </tr>\n",
       "    <tr>\n",
       "      <th>496</th>\n",
       "      <td>200106616</td>\n",
       "      <td>02-07-2020</td>\n",
       "      <td>02-07-2020</td>\n",
       "      <td>Central</td>\n",
       "      <td>624</td>\n",
       "      <td>BATTERY - SIMPLE ASSAULT</td>\n",
       "      <td>35</td>\n",
       "      <td>M</td>\n",
       "      <td>OTHER STORE</td>\n",
       "      <td>IC</td>\n",
       "      <td>2500 W VERNON AV</td>\n",
       "      <td>34.05</td>\n",
       "      <td>-118.25</td>\n",
       "    </tr>\n",
       "    <tr>\n",
       "      <th>497</th>\n",
       "      <td>200106617</td>\n",
       "      <td>02-07-2020</td>\n",
       "      <td>01-10-2020</td>\n",
       "      <td>Central</td>\n",
       "      <td>510</td>\n",
       "      <td>VEHICLE - STOLEN</td>\n",
       "      <td>0</td>\n",
       "      <td>F</td>\n",
       "      <td>PARKING LOT</td>\n",
       "      <td>IC</td>\n",
       "      <td>700 EXPOSITION BL</td>\n",
       "      <td>34.05</td>\n",
       "      <td>-118.25</td>\n",
       "    </tr>\n",
       "    <tr>\n",
       "      <th>498</th>\n",
       "      <td>200106618</td>\n",
       "      <td>02-07-2020</td>\n",
       "      <td>02-03-2020</td>\n",
       "      <td>Central</td>\n",
       "      <td>745</td>\n",
       "      <td>VANDALISM - MISDEAMEANOR ($399 OR UNDER)</td>\n",
       "      <td>72</td>\n",
       "      <td>M</td>\n",
       "      <td>VEHICLE, PASSENGER/TRUCK</td>\n",
       "      <td>IC</td>\n",
       "      <td>2600 S FIGUEROA ST</td>\n",
       "      <td>34.05</td>\n",
       "      <td>-118.24</td>\n",
       "    </tr>\n",
       "  </tbody>\n",
       "</table>\n",
       "<p>499 rows × 13 columns</p>\n",
       "</div>"
      ],
      "text/plain": [
       "         DR_NO   Date_Rptd    DATE_OCC    AREA_NAME  Crm_Cd  \\\n",
       "0     10304468  01-08-2020  01-08-2020    Southwest     624   \n",
       "1    190101086  01-02-2020  01-01-2020      Central     624   \n",
       "2    191501505  01-01-2020  01-01-2020  N Hollywood     745   \n",
       "3    191921269  01-01-2020  01-01-2020      Mission     740   \n",
       "4    200100502  01-02-2020  01-02-2020      Central     442   \n",
       "..         ...         ...         ...          ...     ...   \n",
       "494  200106614  02-07-2020  02-07-2020      Central     624   \n",
       "495  200106615  02-07-2020  02-07-2020      Central     624   \n",
       "496  200106616  02-07-2020  02-07-2020      Central     624   \n",
       "497  200106617  02-07-2020  01-10-2020      Central     510   \n",
       "498  200106618  02-07-2020  02-03-2020      Central     745   \n",
       "\n",
       "                                           Crm_Cd_Desc  Vict_Age Vict_Sex  \\\n",
       "0                             BATTERY - SIMPLE ASSAULT        36        F   \n",
       "1                             BATTERY - SIMPLE ASSAULT        25        M   \n",
       "2             VANDALISM - MISDEAMEANOR ($399 OR UNDER)        76        F   \n",
       "3    VANDALISM - FELONY ($400 & OVER, ALL CHURCH VA...        31        X   \n",
       "4             SHOPLIFTING - PETTY THEFT ($950 & UNDER)        23        M   \n",
       "..                                                 ...       ...      ...   \n",
       "494                           BATTERY - SIMPLE ASSAULT        33        M   \n",
       "495                           BATTERY - SIMPLE ASSAULT        25        M   \n",
       "496                           BATTERY - SIMPLE ASSAULT        35        M   \n",
       "497                                   VEHICLE - STOLEN         0        F   \n",
       "498           VANDALISM - MISDEAMEANOR ($399 OR UNDER)        72        M   \n",
       "\n",
       "                                      Premis_Desc Status            Location  \\\n",
       "0                          SINGLE FAMILY DWELLING     AO      1100 W 39TH PL   \n",
       "1                                        SIDEWALK     IC       700 S HILL ST   \n",
       "2    MULTI-UNIT DWELLING (APARTMENT, DUPLEX, ETC)     IC     5400 CORTEEN PL   \n",
       "3                             BEAUTY SUPPLY STORE     IC      14400 TITUS ST   \n",
       "4                                DEPARTMENT STORE     IC   700 S FIGUEROA ST   \n",
       "..                                            ...    ...                 ...   \n",
       "494                                      SIDEWALK     IC   2400 ELLENDALE PL   \n",
       "495                                      SIDEWALK     IC             39TH PL   \n",
       "496                                   OTHER STORE     IC    2500 W VERNON AV   \n",
       "497                                   PARKING LOT     IC   700 EXPOSITION BL   \n",
       "498                      VEHICLE, PASSENGER/TRUCK     IC  2600 S FIGUEROA ST   \n",
       "\n",
       "       LAT     LON  \n",
       "0    34.01 -118.30  \n",
       "1    34.05 -118.25  \n",
       "2    34.17 -118.40  \n",
       "3    34.22 -118.45  \n",
       "4    34.05 -118.26  \n",
       "..     ...     ...  \n",
       "494  34.05 -118.26  \n",
       "495  34.05 -118.26  \n",
       "496  34.05 -118.25  \n",
       "497  34.05 -118.25  \n",
       "498  34.05 -118.24  \n",
       "\n",
       "[499 rows x 13 columns]"
      ]
     },
     "execution_count": 5,
     "metadata": {},
     "output_type": "execute_result"
    }
   ],
   "source": [
    "df"
   ]
  },
  {
   "cell_type": "markdown",
   "id": "17f2ec1a",
   "metadata": {},
   "source": [
    "# DATA EXPLORATION\n",
    "\n",
    "  - Retrieve basic statistics on the dataset, such as the total number of records and unique values in specific columns.\n",
    "  \n",
    "  - Identify the distinct crime codes and their descriptions.\n"
   ]
  },
  {
   "cell_type": "code",
   "execution_count": 6,
   "id": "5731d156",
   "metadata": {},
   "outputs": [
    {
     "data": {
      "text/html": [
       "<div>\n",
       "<style scoped>\n",
       "    .dataframe tbody tr th:only-of-type {\n",
       "        vertical-align: middle;\n",
       "    }\n",
       "\n",
       "    .dataframe tbody tr th {\n",
       "        vertical-align: top;\n",
       "    }\n",
       "\n",
       "    .dataframe thead th {\n",
       "        text-align: right;\n",
       "    }\n",
       "</style>\n",
       "<table border=\"1\" class=\"dataframe\">\n",
       "  <thead>\n",
       "    <tr style=\"text-align: right;\">\n",
       "      <th></th>\n",
       "      <th>DR_NO</th>\n",
       "      <th>Date_Rptd</th>\n",
       "      <th>DATE_OCC</th>\n",
       "      <th>AREA_NAME</th>\n",
       "      <th>Crm_Cd</th>\n",
       "      <th>Crm_Cd_Desc</th>\n",
       "      <th>Vict_Age</th>\n",
       "      <th>Vict_Sex</th>\n",
       "      <th>Premis_Desc</th>\n",
       "      <th>Status</th>\n",
       "      <th>Location</th>\n",
       "      <th>LAT</th>\n",
       "      <th>LON</th>\n",
       "    </tr>\n",
       "  </thead>\n",
       "  <tbody>\n",
       "    <tr>\n",
       "      <th>0</th>\n",
       "      <td>10304468</td>\n",
       "      <td>01-08-2020</td>\n",
       "      <td>01-08-2020</td>\n",
       "      <td>Southwest</td>\n",
       "      <td>624</td>\n",
       "      <td>BATTERY - SIMPLE ASSAULT</td>\n",
       "      <td>36</td>\n",
       "      <td>F</td>\n",
       "      <td>SINGLE FAMILY DWELLING</td>\n",
       "      <td>AO</td>\n",
       "      <td>1100 W 39TH PL</td>\n",
       "      <td>34.01</td>\n",
       "      <td>-118.30</td>\n",
       "    </tr>\n",
       "    <tr>\n",
       "      <th>1</th>\n",
       "      <td>190101086</td>\n",
       "      <td>01-02-2020</td>\n",
       "      <td>01-01-2020</td>\n",
       "      <td>Central</td>\n",
       "      <td>624</td>\n",
       "      <td>BATTERY - SIMPLE ASSAULT</td>\n",
       "      <td>25</td>\n",
       "      <td>M</td>\n",
       "      <td>SIDEWALK</td>\n",
       "      <td>IC</td>\n",
       "      <td>700 S HILL ST</td>\n",
       "      <td>34.05</td>\n",
       "      <td>-118.25</td>\n",
       "    </tr>\n",
       "    <tr>\n",
       "      <th>2</th>\n",
       "      <td>191501505</td>\n",
       "      <td>01-01-2020</td>\n",
       "      <td>01-01-2020</td>\n",
       "      <td>N Hollywood</td>\n",
       "      <td>745</td>\n",
       "      <td>VANDALISM - MISDEAMEANOR ($399 OR UNDER)</td>\n",
       "      <td>76</td>\n",
       "      <td>F</td>\n",
       "      <td>MULTI-UNIT DWELLING (APARTMENT, DUPLEX, ETC)</td>\n",
       "      <td>IC</td>\n",
       "      <td>5400 CORTEEN PL</td>\n",
       "      <td>34.17</td>\n",
       "      <td>-118.40</td>\n",
       "    </tr>\n",
       "    <tr>\n",
       "      <th>3</th>\n",
       "      <td>191921269</td>\n",
       "      <td>01-01-2020</td>\n",
       "      <td>01-01-2020</td>\n",
       "      <td>Mission</td>\n",
       "      <td>740</td>\n",
       "      <td>VANDALISM - FELONY ($400 &amp; OVER, ALL CHURCH VA...</td>\n",
       "      <td>31</td>\n",
       "      <td>X</td>\n",
       "      <td>BEAUTY SUPPLY STORE</td>\n",
       "      <td>IC</td>\n",
       "      <td>14400 TITUS ST</td>\n",
       "      <td>34.22</td>\n",
       "      <td>-118.45</td>\n",
       "    </tr>\n",
       "    <tr>\n",
       "      <th>4</th>\n",
       "      <td>200100502</td>\n",
       "      <td>01-02-2020</td>\n",
       "      <td>01-02-2020</td>\n",
       "      <td>Central</td>\n",
       "      <td>442</td>\n",
       "      <td>SHOPLIFTING - PETTY THEFT ($950 &amp; UNDER)</td>\n",
       "      <td>23</td>\n",
       "      <td>M</td>\n",
       "      <td>DEPARTMENT STORE</td>\n",
       "      <td>IC</td>\n",
       "      <td>700 S FIGUEROA ST</td>\n",
       "      <td>34.05</td>\n",
       "      <td>-118.26</td>\n",
       "    </tr>\n",
       "  </tbody>\n",
       "</table>\n",
       "</div>"
      ],
      "text/plain": [
       "       DR_NO   Date_Rptd    DATE_OCC    AREA_NAME  Crm_Cd  \\\n",
       "0   10304468  01-08-2020  01-08-2020    Southwest     624   \n",
       "1  190101086  01-02-2020  01-01-2020      Central     624   \n",
       "2  191501505  01-01-2020  01-01-2020  N Hollywood     745   \n",
       "3  191921269  01-01-2020  01-01-2020      Mission     740   \n",
       "4  200100502  01-02-2020  01-02-2020      Central     442   \n",
       "\n",
       "                                         Crm_Cd_Desc  Vict_Age Vict_Sex  \\\n",
       "0                           BATTERY - SIMPLE ASSAULT        36        F   \n",
       "1                           BATTERY - SIMPLE ASSAULT        25        M   \n",
       "2           VANDALISM - MISDEAMEANOR ($399 OR UNDER)        76        F   \n",
       "3  VANDALISM - FELONY ($400 & OVER, ALL CHURCH VA...        31        X   \n",
       "4           SHOPLIFTING - PETTY THEFT ($950 & UNDER)        23        M   \n",
       "\n",
       "                                    Premis_Desc Status           Location  \\\n",
       "0                        SINGLE FAMILY DWELLING     AO     1100 W 39TH PL   \n",
       "1                                      SIDEWALK     IC      700 S HILL ST   \n",
       "2  MULTI-UNIT DWELLING (APARTMENT, DUPLEX, ETC)     IC    5400 CORTEEN PL   \n",
       "3                           BEAUTY SUPPLY STORE     IC     14400 TITUS ST   \n",
       "4                              DEPARTMENT STORE     IC  700 S FIGUEROA ST   \n",
       "\n",
       "     LAT     LON  \n",
       "0  34.01 -118.30  \n",
       "1  34.05 -118.25  \n",
       "2  34.17 -118.40  \n",
       "3  34.22 -118.45  \n",
       "4  34.05 -118.26  "
      ]
     },
     "execution_count": 6,
     "metadata": {},
     "output_type": "execute_result"
    }
   ],
   "source": [
    "#top 5 rows\n",
    "\n",
    "\n",
    "df.head()"
   ]
  },
  {
   "cell_type": "code",
   "execution_count": 7,
   "id": "e2f0d5a4",
   "metadata": {},
   "outputs": [
    {
     "data": {
      "text/html": [
       "<div>\n",
       "<style scoped>\n",
       "    .dataframe tbody tr th:only-of-type {\n",
       "        vertical-align: middle;\n",
       "    }\n",
       "\n",
       "    .dataframe tbody tr th {\n",
       "        vertical-align: top;\n",
       "    }\n",
       "\n",
       "    .dataframe thead th {\n",
       "        text-align: right;\n",
       "    }\n",
       "</style>\n",
       "<table border=\"1\" class=\"dataframe\">\n",
       "  <thead>\n",
       "    <tr style=\"text-align: right;\">\n",
       "      <th></th>\n",
       "      <th>DR_NO</th>\n",
       "      <th>Date_Rptd</th>\n",
       "      <th>DATE_OCC</th>\n",
       "      <th>AREA_NAME</th>\n",
       "      <th>Crm_Cd</th>\n",
       "      <th>Crm_Cd_Desc</th>\n",
       "      <th>Vict_Age</th>\n",
       "      <th>Vict_Sex</th>\n",
       "      <th>Premis_Desc</th>\n",
       "      <th>Status</th>\n",
       "      <th>Location</th>\n",
       "      <th>LAT</th>\n",
       "      <th>LON</th>\n",
       "    </tr>\n",
       "  </thead>\n",
       "  <tbody>\n",
       "    <tr>\n",
       "      <th>494</th>\n",
       "      <td>200106614</td>\n",
       "      <td>02-07-2020</td>\n",
       "      <td>02-07-2020</td>\n",
       "      <td>Central</td>\n",
       "      <td>624</td>\n",
       "      <td>BATTERY - SIMPLE ASSAULT</td>\n",
       "      <td>33</td>\n",
       "      <td>M</td>\n",
       "      <td>SIDEWALK</td>\n",
       "      <td>IC</td>\n",
       "      <td>2400 ELLENDALE PL</td>\n",
       "      <td>34.05</td>\n",
       "      <td>-118.26</td>\n",
       "    </tr>\n",
       "    <tr>\n",
       "      <th>495</th>\n",
       "      <td>200106615</td>\n",
       "      <td>02-07-2020</td>\n",
       "      <td>02-07-2020</td>\n",
       "      <td>Central</td>\n",
       "      <td>624</td>\n",
       "      <td>BATTERY - SIMPLE ASSAULT</td>\n",
       "      <td>25</td>\n",
       "      <td>M</td>\n",
       "      <td>SIDEWALK</td>\n",
       "      <td>IC</td>\n",
       "      <td>39TH PL</td>\n",
       "      <td>34.05</td>\n",
       "      <td>-118.26</td>\n",
       "    </tr>\n",
       "    <tr>\n",
       "      <th>496</th>\n",
       "      <td>200106616</td>\n",
       "      <td>02-07-2020</td>\n",
       "      <td>02-07-2020</td>\n",
       "      <td>Central</td>\n",
       "      <td>624</td>\n",
       "      <td>BATTERY - SIMPLE ASSAULT</td>\n",
       "      <td>35</td>\n",
       "      <td>M</td>\n",
       "      <td>OTHER STORE</td>\n",
       "      <td>IC</td>\n",
       "      <td>2500 W VERNON AV</td>\n",
       "      <td>34.05</td>\n",
       "      <td>-118.25</td>\n",
       "    </tr>\n",
       "    <tr>\n",
       "      <th>497</th>\n",
       "      <td>200106617</td>\n",
       "      <td>02-07-2020</td>\n",
       "      <td>01-10-2020</td>\n",
       "      <td>Central</td>\n",
       "      <td>510</td>\n",
       "      <td>VEHICLE - STOLEN</td>\n",
       "      <td>0</td>\n",
       "      <td>F</td>\n",
       "      <td>PARKING LOT</td>\n",
       "      <td>IC</td>\n",
       "      <td>700 EXPOSITION BL</td>\n",
       "      <td>34.05</td>\n",
       "      <td>-118.25</td>\n",
       "    </tr>\n",
       "    <tr>\n",
       "      <th>498</th>\n",
       "      <td>200106618</td>\n",
       "      <td>02-07-2020</td>\n",
       "      <td>02-03-2020</td>\n",
       "      <td>Central</td>\n",
       "      <td>745</td>\n",
       "      <td>VANDALISM - MISDEAMEANOR ($399 OR UNDER)</td>\n",
       "      <td>72</td>\n",
       "      <td>M</td>\n",
       "      <td>VEHICLE, PASSENGER/TRUCK</td>\n",
       "      <td>IC</td>\n",
       "      <td>2600 S FIGUEROA ST</td>\n",
       "      <td>34.05</td>\n",
       "      <td>-118.24</td>\n",
       "    </tr>\n",
       "  </tbody>\n",
       "</table>\n",
       "</div>"
      ],
      "text/plain": [
       "         DR_NO   Date_Rptd    DATE_OCC AREA_NAME  Crm_Cd  \\\n",
       "494  200106614  02-07-2020  02-07-2020   Central     624   \n",
       "495  200106615  02-07-2020  02-07-2020   Central     624   \n",
       "496  200106616  02-07-2020  02-07-2020   Central     624   \n",
       "497  200106617  02-07-2020  01-10-2020   Central     510   \n",
       "498  200106618  02-07-2020  02-03-2020   Central     745   \n",
       "\n",
       "                                  Crm_Cd_Desc  Vict_Age Vict_Sex  \\\n",
       "494                  BATTERY - SIMPLE ASSAULT        33        M   \n",
       "495                  BATTERY - SIMPLE ASSAULT        25        M   \n",
       "496                  BATTERY - SIMPLE ASSAULT        35        M   \n",
       "497                          VEHICLE - STOLEN         0        F   \n",
       "498  VANDALISM - MISDEAMEANOR ($399 OR UNDER)        72        M   \n",
       "\n",
       "                  Premis_Desc Status            Location    LAT     LON  \n",
       "494                  SIDEWALK     IC   2400 ELLENDALE PL  34.05 -118.26  \n",
       "495                  SIDEWALK     IC             39TH PL  34.05 -118.26  \n",
       "496               OTHER STORE     IC    2500 W VERNON AV  34.05 -118.25  \n",
       "497               PARKING LOT     IC   700 EXPOSITION BL  34.05 -118.25  \n",
       "498  VEHICLE, PASSENGER/TRUCK     IC  2600 S FIGUEROA ST  34.05 -118.24  "
      ]
     },
     "execution_count": 7,
     "metadata": {},
     "output_type": "execute_result"
    }
   ],
   "source": [
    "#last 5 rows\n",
    "\n",
    "df.tail()"
   ]
  },
  {
   "cell_type": "code",
   "execution_count": 8,
   "id": "20fb6fd7",
   "metadata": {},
   "outputs": [
    {
     "name": "stdout",
     "output_type": "stream",
     "text": [
      "<class 'pandas.core.frame.DataFrame'>\n",
      "RangeIndex: 499 entries, 0 to 498\n",
      "Data columns (total 13 columns):\n",
      " #   Column       Non-Null Count  Dtype  \n",
      "---  ------       --------------  -----  \n",
      " 0   DR_NO        499 non-null    int64  \n",
      " 1   Date_Rptd    499 non-null    object \n",
      " 2   DATE_OCC     499 non-null    object \n",
      " 3   AREA_NAME    499 non-null    object \n",
      " 4   Crm_Cd       499 non-null    int64  \n",
      " 5   Crm_Cd_Desc  499 non-null    object \n",
      " 6   Vict_Age     499 non-null    int64  \n",
      " 7   Vict_Sex     499 non-null    object \n",
      " 8   Premis_Desc  499 non-null    object \n",
      " 9   Status       499 non-null    object \n",
      " 10  Location     499 non-null    object \n",
      " 11  LAT          499 non-null    float64\n",
      " 12  LON          499 non-null    float64\n",
      "dtypes: float64(2), int64(3), object(8)\n",
      "memory usage: 50.8+ KB\n",
      "None\n"
     ]
    }
   ],
   "source": [
    "#information of the values and its type\n",
    "\n",
    "print(df.info())"
   ]
  },
  {
   "cell_type": "code",
   "execution_count": 9,
   "id": "924cace5",
   "metadata": {},
   "outputs": [
    {
     "name": "stdout",
     "output_type": "stream",
     "text": [
      "              DR_NO      Crm_Cd    Vict_Age         LAT         LON\n",
      "count  4.990000e+02  499.000000  499.000000  499.000000  499.000000\n",
      "mean   1.999930e+08  504.178357   32.142285   34.047335 -118.261283\n",
      "std    8.742243e+06  198.381863   20.202136    0.053840    0.041560\n",
      "min    1.030447e+07  210.000000    0.000000   33.710000 -118.560000\n",
      "25%    2.001044e+08  330.000000   23.000000   34.040000 -118.260000\n",
      "50%    2.001048e+08  442.000000   31.000000   34.050000 -118.250000\n",
      "75%    2.001064e+08  624.000000   46.500000   34.050000 -118.240000\n",
      "max    2.220130e+08  956.000000   78.000000   34.280000 -118.190000\n"
     ]
    }
   ],
   "source": [
    "#statistical information of the dataset\n",
    "\n",
    "print(df.describe())"
   ]
  },
  {
   "cell_type": "code",
   "execution_count": 10,
   "id": "47a2e766",
   "metadata": {},
   "outputs": [
    {
     "name": "stdout",
     "output_type": "stream",
     "text": [
      "      AREA_NAME  Count\n",
      "0       Central    423\n",
      "1        Harbor     12\n",
      "2     Northeast     12\n",
      "3       Rampart      8\n",
      "4     Hollywood      6\n",
      "5      Wilshire      5\n",
      "6       West LA      5\n",
      "7   77th Street      5\n",
      "8     Southwest      4\n",
      "9      Van Nuys      4\n",
      "10   Hollenbeck      4\n",
      "11  N Hollywood      2\n",
      "12     Foothill      2\n",
      "13  West Valley      2\n",
      "14      Mission      1\n",
      "15      Pacific      1\n",
      "16      Olympic      1\n",
      "17   Devonshire      1\n",
      "18    Southeast      1\n"
     ]
    },
    {
     "name": "stderr",
     "output_type": "stream",
     "text": [
      "C:\\Users\\ricky\\AppData\\Local\\Temp\\ipykernel_17872\\2772750646.py:3: UserWarning: pandas only supports SQLAlchemy connectable (engine/connection) or database string URI or sqlite3 DBAPI2 connection. Other DBAPI2 objects are not tested. Please consider using SQLAlchemy.\n",
      "  print(pd.read_sql_query('''\n"
     ]
    }
   ],
   "source": [
    "#Area onto which most crime has happened-using sql query\n",
    "\n",
    "print(pd.read_sql_query('''\n",
    "SELECT AREA_NAME, COUNT(*) AS Count\n",
    "from crime_data\n",
    "group by AREA_NAME\n",
    "order by Count desc;\n",
    "''',connection))"
   ]
  },
  {
   "cell_type": "code",
   "execution_count": 11,
   "id": "da38bc07",
   "metadata": {
    "collapsed": true
   },
   "outputs": [
    {
     "name": "stdout",
     "output_type": "stream",
     "text": [
      "Central        423\n",
      "Northeast       12\n",
      "Harbor          12\n",
      "Rampart          8\n",
      "Hollywood        6\n",
      "77th Street      5\n",
      "Wilshire         5\n",
      "West LA          5\n",
      "Southwest        4\n",
      "Hollenbeck       4\n",
      "Van Nuys         4\n",
      "Foothill         2\n",
      "West Valley      2\n",
      "N Hollywood      2\n",
      "Pacific          1\n",
      "Mission          1\n",
      "Olympic          1\n",
      "Devonshire       1\n",
      "Southeast        1\n",
      "Name: AREA_NAME, dtype: int64\n"
     ]
    }
   ],
   "source": [
    "#using pandas also we can do the same\n",
    "print(df[\"AREA_NAME\"].value_counts())"
   ]
  },
  {
   "cell_type": "code",
   "execution_count": 12,
   "id": "d37d23c9",
   "metadata": {},
   "outputs": [
    {
     "name": "stdout",
     "output_type": "stream",
     "text": [
      "[624 745 740 442 946 341 330 930 648 354 230 761 350 310 480 623 440 510\n",
      " 210 900 888 420 886 421 647 940 662 220 625 755 649 901 320 890 351 956\n",
      " 820 812 920 850 666 343]\n"
     ]
    }
   ],
   "source": [
    "#Unique Crime codes\n",
    "\n",
    "print(df[\"Crm_Cd\"].unique())"
   ]
  },
  {
   "cell_type": "code",
   "execution_count": 13,
   "id": "12b3a6eb",
   "metadata": {},
   "outputs": [
    {
     "name": "stdout",
     "output_type": "stream",
     "text": [
      "   No_of_crime_code\n",
      "0                42\n"
     ]
    },
    {
     "name": "stderr",
     "output_type": "stream",
     "text": [
      "C:\\Users\\ricky\\AppData\\Local\\Temp\\ipykernel_17872\\2598763622.py:4: UserWarning: pandas only supports SQLAlchemy connectable (engine/connection) or database string URI or sqlite3 DBAPI2 connection. Other DBAPI2 objects are not tested. Please consider using SQLAlchemy.\n",
      "  print(pd.read_sql_query('''\n"
     ]
    }
   ],
   "source": [
    "#Number of Unique Crime codes using sql query\n",
    "\n",
    "\n",
    "print(pd.read_sql_query('''\n",
    "SELECT count(distinct Crm_cd) as No_of_crime_code\n",
    "from crime_data\n",
    ";\n",
    "''',connection))\n",
    "\n"
   ]
  },
  {
   "cell_type": "code",
   "execution_count": 14,
   "id": "56a1f6ef",
   "metadata": {
    "scrolled": true
   },
   "outputs": [
    {
     "name": "stdout",
     "output_type": "stream",
     "text": [
      "                                    Crime_description\n",
      "0                            BATTERY - SIMPLE ASSAULT\n",
      "1            VANDALISM - MISDEAMEANOR ($399 OR UNDER)\n",
      "2   VANDALISM - FELONY ($400 & OVER, ALL CHURCH VA...\n",
      "3            SHOPLIFTING - PETTY THEFT ($950 & UNDER)\n",
      "4                           OTHER MISCELLANEOUS CRIME\n",
      "5   THEFT-GRAND ($950.01 & OVER)EXCPT,GUNS,FOWL,LI...\n",
      "6                               BURGLARY FROM VEHICLE\n",
      "7              CRIMINAL THREATS - NO WEAPON DISPLAYED\n",
      "8                                               ARSON\n",
      "9                                   THEFT OF IDENTITY\n",
      "10     ASSAULT WITH DEADLY WEAPON, AGGRAVATED ASSAULT\n",
      "11                                    BRANDISH WEAPON\n",
      "12                                      THEFT, PERSON\n",
      "13                                           BURGLARY\n",
      "14                                      BIKE - STOLEN\n",
      "15                            BATTERY POLICE (SIMPLE)\n",
      "16                 THEFT PLAIN - PETTY ($950 & UNDER)\n",
      "17                                   VEHICLE - STOLEN\n",
      "18                                            ROBBERY\n",
      "19                           VIOLATION OF COURT ORDER\n",
      "20                                        TRESPASSING\n",
      "21    THEFT FROM MOTOR VEHICLE - PETTY ($950 & UNDER)\n",
      "22                               DISTURBING THE PEACE\n",
      "23                 THEFT FROM MOTOR VEHICLE - ATTEMPT\n",
      "24                  THROWING OBJECT AT MOVING VEHICLE\n",
      "25                                          EXTORTION\n",
      "26                                 BUNCO, GRAND THEFT\n",
      "27                                  ATTEMPTED ROBBERY\n",
      "28                                      OTHER ASSAULT\n",
      "29                                         BOMB SCARE\n",
      "30                   DOCUMENT FORGERY / STOLEN FELONY\n",
      "31                     VIOLATION OF RESTRAINING ORDER\n",
      "32                                BURGLARY, ATTEMPTED\n",
      "33                                   FAILURE TO YIELD\n",
      "34                                    PURSE SNATCHING\n",
      "35            LETTERS, LEWD  -  TELEPHONE CALLS, LEWD\n",
      "36                                    ORAL COPULATION\n",
      "37  CRM AGNST CHLD (13 OR UNDER) (14-15 & SUSP 10 ...\n",
      "38                         KIDNAPPING - GRAND ATTEMPT\n",
      "39                                  INDECENT EXPOSURE\n",
      "40                                     BUNCO, ATTEMPT\n",
      "41           SHOPLIFTING-GRAND THEFT ($950.01 & OVER)\n"
     ]
    },
    {
     "name": "stderr",
     "output_type": "stream",
     "text": [
      "C:\\Users\\ricky\\AppData\\Local\\Temp\\ipykernel_17872\\1186284132.py:3: UserWarning: pandas only supports SQLAlchemy connectable (engine/connection) or database string URI or sqlite3 DBAPI2 connection. Other DBAPI2 objects are not tested. Please consider using SQLAlchemy.\n",
      "  print(pd.read_sql_query('''\n"
     ]
    }
   ],
   "source": [
    "#getting the Unique crime description name using sql query\n",
    "\n",
    "print(pd.read_sql_query('''\n",
    "SELECT distinct Crm_Cd_Desc as Crime_description\n",
    "FROM crime_data\n",
    ";\n",
    "''',connection))"
   ]
  },
  {
   "cell_type": "code",
   "execution_count": 15,
   "id": "3c20778f",
   "metadata": {},
   "outputs": [
    {
     "name": "stdout",
     "output_type": "stream",
     "text": [
      "No of Unique Crime Descripton- 42\n"
     ]
    }
   ],
   "source": [
    "#No of Unique Crime Description\n",
    "\n",
    "print(\"No of Unique Crime Descripton-\",df[\"Crm_Cd_Desc\"].unique().size)"
   ]
  },
  {
   "cell_type": "code",
   "execution_count": 16,
   "id": "b6286e2c",
   "metadata": {},
   "outputs": [
    {
     "name": "stdout",
     "output_type": "stream",
     "text": [
      "                                         Crm_Cd_Desc  Crm_Cd  Count\n",
      "0                              BURGLARY FROM VEHICLE     330     82\n",
      "1                           BATTERY - SIMPLE ASSAULT     624     74\n",
      "2                 THEFT PLAIN - PETTY ($950 & UNDER)     440     44\n",
      "3           SHOPLIFTING - PETTY THEFT ($950 & UNDER)     442     28\n",
      "4                                   VEHICLE - STOLEN     510     28\n",
      "5  THEFT-GRAND ($950.01 & OVER)EXCPT,GUNS,FOWL,LI...     341     26\n",
      "6     ASSAULT WITH DEADLY WEAPON, AGGRAVATED ASSAULT     230     24\n",
      "7           VANDALISM - MISDEAMEANOR ($399 OR UNDER)     745     23\n",
      "8  VANDALISM - FELONY ($400 & OVER, ALL CHURCH VA...     740     23\n",
      "9                                        TRESPASSING     888     19\n"
     ]
    },
    {
     "name": "stderr",
     "output_type": "stream",
     "text": [
      "C:\\Users\\ricky\\AppData\\Local\\Temp\\ipykernel_17872\\3133433506.py:3: UserWarning: pandas only supports SQLAlchemy connectable (engine/connection) or database string URI or sqlite3 DBAPI2 connection. Other DBAPI2 objects are not tested. Please consider using SQLAlchemy.\n",
      "  print(pd.read_sql_query('''\n"
     ]
    }
   ],
   "source": [
    "#Top 10 Crime_DESCRIPTION along with their code-using sql query\n",
    "\n",
    "print(pd.read_sql_query('''\n",
    "SELECT Crm_Cd_Desc, Crm_Cd,COUNT(*) AS Count\n",
    "from crime_data\n",
    "group by Crm_Cd_Desc,Crm_Cd\n",
    "order by Count DESC\n",
    "LIMIT 10;\n",
    "\n",
    ";\n",
    "''',connection))\n",
    "\n",
    "\n",
    "\n",
    "\n",
    "\n"
   ]
  },
  {
   "cell_type": "code",
   "execution_count": 17,
   "id": "3e1dd8c6",
   "metadata": {},
   "outputs": [
    {
     "name": "stdout",
     "output_type": "stream",
     "text": [
      "                                   Crime_Description  Crime_Code  Count\n",
      "0                              BURGLARY FROM VEHICLE         330     82\n",
      "1                           BATTERY - SIMPLE ASSAULT         624     74\n",
      "2                 THEFT PLAIN - PETTY ($950 & UNDER)         440     44\n",
      "3           SHOPLIFTING - PETTY THEFT ($950 & UNDER)         442     28\n",
      "4                                   VEHICLE - STOLEN         510     28\n",
      "5  THEFT-GRAND ($950.01 & OVER)EXCPT,GUNS,FOWL,LI...         341     26\n",
      "6     ASSAULT WITH DEADLY WEAPON, AGGRAVATED ASSAULT         230     24\n",
      "7  VANDALISM - FELONY ($400 & OVER, ALL CHURCH VA...         740     23\n",
      "8           VANDALISM - MISDEAMEANOR ($399 OR UNDER)         745     23\n",
      "9                                        TRESPASSING         888     19\n"
     ]
    }
   ],
   "source": [
    "# Alternatively we can use pandas for this\n",
    "\n",
    "\n",
    "# Top 10 crime description happening\n",
    "\n",
    "\n",
    "top_10_crime = df[\"Crm_Cd_Desc\"].value_counts().head(10)\n",
    "crime_codes = df.groupby('Crm_Cd_Desc')['Crm_Cd'].unique().apply(lambda x: x[0]).loc[top_10_crime.index]\n",
    "\n",
    "result = pd.DataFrame({'Crime_Description': top_10_crime.index, 'Crime_Code': crime_codes.values, 'Count': top_10_crime.values})\n",
    "print(result)"
   ]
  },
  {
   "cell_type": "code",
   "execution_count": 18,
   "id": "957cec0b",
   "metadata": {},
   "outputs": [
    {
     "data": {
      "image/png": "[encoded data removed]",
      "text/plain": [
       "<Figure size 1000x600 with 1 Axes>"
      ]
     },
     "metadata": {},
     "output_type": "display_data"
    }
   ],
   "source": [
    "#Graphical Representation of the Top 10 Crimes\n",
    "\n",
    "\n",
    "plt.figure(figsize=(10,6))\n",
    "top_10_crimes=df[\"Crm_Cd_Desc\"].value_counts().head(10)\n",
    "top_10_crimes.plot(kind=\"bar\",color=\"#FF33AC\")\n",
    "\n",
    "plt.xlabel(\"Crime Description\")\n",
    "plt.ylabel(\"Frequency\")\n",
    "plt.title(\"Top 10 Crimes\",color=\"#4C33FF\")\n",
    "plt.xticks(rotation=45,ha=\"right\")\n",
    "plt.tight_layout()\n",
    "\n",
    "plt.show()\n",
    "\n",
    "\n",
    "#Notes-Rotation helps to prevent overlapping of desc and ha=horizontal alignment towards right"
   ]
  },
  {
   "cell_type": "markdown",
   "id": "9acaa346",
   "metadata": {},
   "source": [
    "# TEMPORAL ANALYSIS\n",
    "\n",
    "- Analyze the temporal aspects of the data.\n",
    "\n",
    "- Determine trends in crime occurrence over time.\n",
    "\n"
   ]
  },
  {
   "cell_type": "code",
   "execution_count": 19,
   "id": "99e63e85",
   "metadata": {},
   "outputs": [
    {
     "data": {
      "text/html": [
       "<div>\n",
       "<style scoped>\n",
       "    .dataframe tbody tr th:only-of-type {\n",
       "        vertical-align: middle;\n",
       "    }\n",
       "\n",
       "    .dataframe tbody tr th {\n",
       "        vertical-align: top;\n",
       "    }\n",
       "\n",
       "    .dataframe thead th {\n",
       "        text-align: right;\n",
       "    }\n",
       "</style>\n",
       "<table border=\"1\" class=\"dataframe\">\n",
       "  <thead>\n",
       "    <tr style=\"text-align: right;\">\n",
       "      <th></th>\n",
       "      <th>DATE_OCC</th>\n",
       "      <th>Date_Rptd</th>\n",
       "    </tr>\n",
       "  </thead>\n",
       "  <tbody>\n",
       "    <tr>\n",
       "      <th>0</th>\n",
       "      <td>01-08-2020</td>\n",
       "      <td>01-08-2020</td>\n",
       "    </tr>\n",
       "    <tr>\n",
       "      <th>1</th>\n",
       "      <td>01-01-2020</td>\n",
       "      <td>01-02-2020</td>\n",
       "    </tr>\n",
       "    <tr>\n",
       "      <th>2</th>\n",
       "      <td>01-01-2020</td>\n",
       "      <td>01-01-2020</td>\n",
       "    </tr>\n",
       "    <tr>\n",
       "      <th>3</th>\n",
       "      <td>01-01-2020</td>\n",
       "      <td>01-01-2020</td>\n",
       "    </tr>\n",
       "    <tr>\n",
       "      <th>4</th>\n",
       "      <td>01-02-2020</td>\n",
       "      <td>01-02-2020</td>\n",
       "    </tr>\n",
       "    <tr>\n",
       "      <th>...</th>\n",
       "      <td>...</td>\n",
       "      <td>...</td>\n",
       "    </tr>\n",
       "    <tr>\n",
       "      <th>494</th>\n",
       "      <td>02-07-2020</td>\n",
       "      <td>02-07-2020</td>\n",
       "    </tr>\n",
       "    <tr>\n",
       "      <th>495</th>\n",
       "      <td>02-07-2020</td>\n",
       "      <td>02-07-2020</td>\n",
       "    </tr>\n",
       "    <tr>\n",
       "      <th>496</th>\n",
       "      <td>02-07-2020</td>\n",
       "      <td>02-07-2020</td>\n",
       "    </tr>\n",
       "    <tr>\n",
       "      <th>497</th>\n",
       "      <td>01-10-2020</td>\n",
       "      <td>02-07-2020</td>\n",
       "    </tr>\n",
       "    <tr>\n",
       "      <th>498</th>\n",
       "      <td>02-03-2020</td>\n",
       "      <td>02-07-2020</td>\n",
       "    </tr>\n",
       "  </tbody>\n",
       "</table>\n",
       "<p>499 rows × 2 columns</p>\n",
       "</div>"
      ],
      "text/plain": [
       "       DATE_OCC   Date_Rptd\n",
       "0    01-08-2020  01-08-2020\n",
       "1    01-01-2020  01-02-2020\n",
       "2    01-01-2020  01-01-2020\n",
       "3    01-01-2020  01-01-2020\n",
       "4    01-02-2020  01-02-2020\n",
       "..          ...         ...\n",
       "494  02-07-2020  02-07-2020\n",
       "495  02-07-2020  02-07-2020\n",
       "496  02-07-2020  02-07-2020\n",
       "497  01-10-2020  02-07-2020\n",
       "498  02-03-2020  02-07-2020\n",
       "\n",
       "[499 rows x 2 columns]"
      ]
     },
     "execution_count": 19,
     "metadata": {},
     "output_type": "execute_result"
    }
   ],
   "source": [
    "df[[\"DATE_OCC\",\"Date_Rptd\"]]"
   ]
  },
  {
   "cell_type": "raw",
   "id": "9a84ba63",
   "metadata": {},
   "source": [
    "- TO SEE THE LAG IN DATE REPORTED AND DATE OCCURED \n",
    "- ALSO TO CHANGE THE DATE FORMAT AS IT IS IN STRING FORMAT"
   ]
  },
  {
   "cell_type": "code",
   "execution_count": 20,
   "id": "15e18767",
   "metadata": {},
   "outputs": [],
   "source": [
    "df[\"New_Date_Rptd\"]= pd.to_datetime(df[\"Date_Rptd\"])"
   ]
  },
  {
   "cell_type": "code",
   "execution_count": 21,
   "id": "8671b9ce",
   "metadata": {},
   "outputs": [
    {
     "data": {
      "text/html": [
       "<div>\n",
       "<style scoped>\n",
       "    .dataframe tbody tr th:only-of-type {\n",
       "        vertical-align: middle;\n",
       "    }\n",
       "\n",
       "    .dataframe tbody tr th {\n",
       "        vertical-align: top;\n",
       "    }\n",
       "\n",
       "    .dataframe thead th {\n",
       "        text-align: right;\n",
       "    }\n",
       "</style>\n",
       "<table border=\"1\" class=\"dataframe\">\n",
       "  <thead>\n",
       "    <tr style=\"text-align: right;\">\n",
       "      <th></th>\n",
       "      <th>DR_NO</th>\n",
       "      <th>Date_Rptd</th>\n",
       "      <th>DATE_OCC</th>\n",
       "      <th>AREA_NAME</th>\n",
       "      <th>Crm_Cd</th>\n",
       "      <th>Crm_Cd_Desc</th>\n",
       "      <th>Vict_Age</th>\n",
       "      <th>Vict_Sex</th>\n",
       "      <th>Premis_Desc</th>\n",
       "      <th>Status</th>\n",
       "      <th>Location</th>\n",
       "      <th>LAT</th>\n",
       "      <th>LON</th>\n",
       "      <th>New_Date_Rptd</th>\n",
       "      <th>New_DATE_OCC</th>\n",
       "    </tr>\n",
       "  </thead>\n",
       "  <tbody>\n",
       "    <tr>\n",
       "      <th>0</th>\n",
       "      <td>10304468</td>\n",
       "      <td>01-08-2020</td>\n",
       "      <td>01-08-2020</td>\n",
       "      <td>Southwest</td>\n",
       "      <td>624</td>\n",
       "      <td>BATTERY - SIMPLE ASSAULT</td>\n",
       "      <td>36</td>\n",
       "      <td>F</td>\n",
       "      <td>SINGLE FAMILY DWELLING</td>\n",
       "      <td>AO</td>\n",
       "      <td>1100 W 39TH PL</td>\n",
       "      <td>34.01</td>\n",
       "      <td>-118.30</td>\n",
       "      <td>2020-01-08</td>\n",
       "      <td>2020-01-08</td>\n",
       "    </tr>\n",
       "    <tr>\n",
       "      <th>1</th>\n",
       "      <td>190101086</td>\n",
       "      <td>01-02-2020</td>\n",
       "      <td>01-01-2020</td>\n",
       "      <td>Central</td>\n",
       "      <td>624</td>\n",
       "      <td>BATTERY - SIMPLE ASSAULT</td>\n",
       "      <td>25</td>\n",
       "      <td>M</td>\n",
       "      <td>SIDEWALK</td>\n",
       "      <td>IC</td>\n",
       "      <td>700 S HILL ST</td>\n",
       "      <td>34.05</td>\n",
       "      <td>-118.25</td>\n",
       "      <td>2020-01-02</td>\n",
       "      <td>2020-01-01</td>\n",
       "    </tr>\n",
       "    <tr>\n",
       "      <th>2</th>\n",
       "      <td>191501505</td>\n",
       "      <td>01-01-2020</td>\n",
       "      <td>01-01-2020</td>\n",
       "      <td>N Hollywood</td>\n",
       "      <td>745</td>\n",
       "      <td>VANDALISM - MISDEAMEANOR ($399 OR UNDER)</td>\n",
       "      <td>76</td>\n",
       "      <td>F</td>\n",
       "      <td>MULTI-UNIT DWELLING (APARTMENT, DUPLEX, ETC)</td>\n",
       "      <td>IC</td>\n",
       "      <td>5400 CORTEEN PL</td>\n",
       "      <td>34.17</td>\n",
       "      <td>-118.40</td>\n",
       "      <td>2020-01-01</td>\n",
       "      <td>2020-01-01</td>\n",
       "    </tr>\n",
       "    <tr>\n",
       "      <th>3</th>\n",
       "      <td>191921269</td>\n",
       "      <td>01-01-2020</td>\n",
       "      <td>01-01-2020</td>\n",
       "      <td>Mission</td>\n",
       "      <td>740</td>\n",
       "      <td>VANDALISM - FELONY ($400 &amp; OVER, ALL CHURCH VA...</td>\n",
       "      <td>31</td>\n",
       "      <td>X</td>\n",
       "      <td>BEAUTY SUPPLY STORE</td>\n",
       "      <td>IC</td>\n",
       "      <td>14400 TITUS ST</td>\n",
       "      <td>34.22</td>\n",
       "      <td>-118.45</td>\n",
       "      <td>2020-01-01</td>\n",
       "      <td>2020-01-01</td>\n",
       "    </tr>\n",
       "    <tr>\n",
       "      <th>4</th>\n",
       "      <td>200100502</td>\n",
       "      <td>01-02-2020</td>\n",
       "      <td>01-02-2020</td>\n",
       "      <td>Central</td>\n",
       "      <td>442</td>\n",
       "      <td>SHOPLIFTING - PETTY THEFT ($950 &amp; UNDER)</td>\n",
       "      <td>23</td>\n",
       "      <td>M</td>\n",
       "      <td>DEPARTMENT STORE</td>\n",
       "      <td>IC</td>\n",
       "      <td>700 S FIGUEROA ST</td>\n",
       "      <td>34.05</td>\n",
       "      <td>-118.26</td>\n",
       "      <td>2020-01-02</td>\n",
       "      <td>2020-01-02</td>\n",
       "    </tr>\n",
       "  </tbody>\n",
       "</table>\n",
       "</div>"
      ],
      "text/plain": [
       "       DR_NO   Date_Rptd    DATE_OCC    AREA_NAME  Crm_Cd  \\\n",
       "0   10304468  01-08-2020  01-08-2020    Southwest     624   \n",
       "1  190101086  01-02-2020  01-01-2020      Central     624   \n",
       "2  191501505  01-01-2020  01-01-2020  N Hollywood     745   \n",
       "3  191921269  01-01-2020  01-01-2020      Mission     740   \n",
       "4  200100502  01-02-2020  01-02-2020      Central     442   \n",
       "\n",
       "                                         Crm_Cd_Desc  Vict_Age Vict_Sex  \\\n",
       "0                           BATTERY - SIMPLE ASSAULT        36        F   \n",
       "1                           BATTERY - SIMPLE ASSAULT        25        M   \n",
       "2           VANDALISM - MISDEAMEANOR ($399 OR UNDER)        76        F   \n",
       "3  VANDALISM - FELONY ($400 & OVER, ALL CHURCH VA...        31        X   \n",
       "4           SHOPLIFTING - PETTY THEFT ($950 & UNDER)        23        M   \n",
       "\n",
       "                                    Premis_Desc Status           Location  \\\n",
       "0                        SINGLE FAMILY DWELLING     AO     1100 W 39TH PL   \n",
       "1                                      SIDEWALK     IC      700 S HILL ST   \n",
       "2  MULTI-UNIT DWELLING (APARTMENT, DUPLEX, ETC)     IC    5400 CORTEEN PL   \n",
       "3                           BEAUTY SUPPLY STORE     IC     14400 TITUS ST   \n",
       "4                              DEPARTMENT STORE     IC  700 S FIGUEROA ST   \n",
       "\n",
       "     LAT     LON New_Date_Rptd New_DATE_OCC  \n",
       "0  34.01 -118.30    2020-01-08   2020-01-08  \n",
       "1  34.05 -118.25    2020-01-02   2020-01-01  \n",
       "2  34.17 -118.40    2020-01-01   2020-01-01  \n",
       "3  34.22 -118.45    2020-01-01   2020-01-01  \n",
       "4  34.05 -118.26    2020-01-02   2020-01-02  "
      ]
     },
     "execution_count": 21,
     "metadata": {},
     "output_type": "execute_result"
    }
   ],
   "source": [
    "df[\"New_DATE_OCC\"] = pd.to_datetime(df[\"DATE_OCC\"])\n",
    "df.head()"
   ]
  },
  {
   "cell_type": "code",
   "execution_count": 22,
   "id": "d7c58e1b",
   "metadata": {},
   "outputs": [],
   "source": [
    "df[\"Crime_Month\"]=df[\"New_Date_Rptd\"].dt.to_period(\"M\")"
   ]
  },
  {
   "cell_type": "code",
   "execution_count": 23,
   "id": "76c4d479",
   "metadata": {},
   "outputs": [
    {
     "data": {
      "text/plain": [
       "2020-01    309\n",
       "2020-02    134\n",
       "2020-03      4\n",
       "2020-04      5\n",
       "2020-05      5\n",
       "2020-06      5\n",
       "2020-07      3\n",
       "2020-08      3\n",
       "2020-09      4\n",
       "2020-10      4\n",
       "2020-11      6\n",
       "2020-12      9\n",
       "2021-01      1\n",
       "2021-03      1\n",
       "2021-04      1\n",
       "2021-11      1\n",
       "2021-12      2\n",
       "2022-02      1\n",
       "2022-08      1\n",
       "Freq: M, Name: Crime_Month, dtype: int64"
      ]
     },
     "execution_count": 23,
     "metadata": {},
     "output_type": "execute_result"
    }
   ],
   "source": [
    "per_month_reports = df[\"Crime_Month\"].value_counts().sort_index()\n",
    "per_month_reports\n",
    "\n"
   ]
  },
  {
   "cell_type": "code",
   "execution_count": 24,
   "id": "15394e2b",
   "metadata": {},
   "outputs": [
    {
     "data": {
      "image/png": "[encoded data removed]",
      "text/plain": [
       "<Figure size 1000x500 with 1 Axes>"
      ]
     },
     "metadata": {},
     "output_type": "display_data"
    }
   ],
   "source": [
    "#Graphical Representation of the Crimes_Reported Per Month for the year-2020,2021,2022\n",
    "\n",
    "plt.figure(figsize=(10,5))\n",
    "per_month_reports.plot(kind='line')\n",
    "plt.title('No of Reported Crimes Over Months')\n",
    "plt.xlabel('Month')\n",
    "plt.ylabel('No of Reports')\n",
    "plt.xticks(rotation=45)\n",
    "plt.grid()\n",
    "plt.tight_layout()\n",
    "plt.show()\n",
    "\n",
    "\n",
    "#hence January and February -2020 has the more number of reported crimes as compared to other years(2021,2022)"
   ]
  },
  {
   "cell_type": "code",
   "execution_count": 25,
   "id": "abe8c273",
   "metadata": {},
   "outputs": [
    {
     "name": "stdout",
     "output_type": "stream",
     "text": [
      "The average time of the crimes reported=  6 days 20:49:32.344689378\n"
     ]
    }
   ],
   "source": [
    "#Calculating the average time gap between crimes occured and reported\n",
    "\n",
    "df[\"Time_Gap\"]= df[\"New_Date_Rptd\"]-df[\"New_DATE_OCC\"]\n",
    "average_time = df[\"Time_Gap\"].mean()\n",
    "\n",
    "print(\"The average time of the crimes reported= \",average_time)"
   ]
  },
  {
   "cell_type": "code",
   "execution_count": 26,
   "id": "00031cb8",
   "metadata": {},
   "outputs": [
    {
     "data": {
      "image/png": "[encoded data removed]",
      "text/plain": [
       "<Figure size 1000x600 with 1 Axes>"
      ]
     },
     "metadata": {},
     "output_type": "display_data"
    }
   ],
   "source": [
    "#Graphical respresntation of the year on which the crime_reported was more-Using Seaborn\n",
    "\n",
    "yearly_crime_reported = df[\"New_Date_Rptd\"].dt.year.value_counts().sort_index()\n",
    "\n",
    "plt.figure(figsize=(10,6))\n",
    "sns.barplot(x=yearly_crime_reported.index, y=yearly_crime_reported.values, palette='viridis')\n",
    "plt.xlabel(\"Year\")\n",
    "plt.ylabel(\"No of crime reported\")\n",
    "plt.title(\"Yearly Crimes Reported\")\n",
    "plt.xticks(rotation=45, ha=\"right\")\n",
    "plt.tight_layout()\n",
    "plt.show()\n"
   ]
  },
  {
   "cell_type": "code",
   "execution_count": 27,
   "id": "3efa1c7b",
   "metadata": {},
   "outputs": [
    {
     "data": {
      "text/plain": [
       "Crm_Cd_Desc                     New_Date_Rptd\n",
       "BATTERY - SIMPLE ASSAULT        2020-01-11       9\n",
       "BURGLARY FROM VEHICLE           2020-01-12       8\n",
       "                                2020-01-04       7\n",
       "BATTERY - SIMPLE ASSAULT        2020-01-02       7\n",
       "BURGLARY FROM VEHICLE           2020-01-11       7\n",
       "                                                ..\n",
       "OTHER MISCELLANEOUS CRIME       2020-01-04       1\n",
       "                                2020-01-09       1\n",
       "                                2020-01-12       1\n",
       "                                2020-02-07       1\n",
       "VIOLATION OF RESTRAINING ORDER  2020-11-07       1\n",
       "Length: 280, dtype: int64"
      ]
     },
     "execution_count": 27,
     "metadata": {},
     "output_type": "execute_result"
    }
   ],
   "source": [
    "#Crime Description as per the date_reported\n",
    "\n",
    "df[[\"Crm_Cd_Desc\",\"New_Date_Rptd\"]].value_counts()"
   ]
  },
  {
   "cell_type": "markdown",
   "id": "4d164a76",
   "metadata": {},
   "source": [
    "# SPATIAL ANALYSIS\n",
    "   \n",
    "   - Utilize the geographical information (Latitude and Longitude) to perform spatial analysis.\n",
    "\n",
    "   - Visualize crime hotspots on a map.\n",
    "\n"
   ]
  },
  {
   "cell_type": "markdown",
   "id": "735de10d",
   "metadata": {},
   "source": [
    "<div style=\"background-color: #ffeeba; padding: 10px;\">\n",
    "    <h3 style=\"color: #856404;\">Question 1</h3>\n",
    "    <ul>\n",
    "        <li><strong>Where are the geographical hotspots for reported crimes?</strong></li>\n",
    "        <li><strong>Where do most crimes occur based on the \"Location\" column?</strong></li>\n",
    "    </ul>\n",
    "</div>\n"
   ]
  },
  {
   "cell_type": "markdown",
   "id": "9ba5d02b",
   "metadata": {},
   "source": [
    "<font color='blue'><strong>Answer:</strong></font>\n",
    "\n",
    "- **Where are the geographical hotspots for reported crimes?**\n",
    "\n",
    "    As per the map its evident that the crimes taken place is in Los Angeles.Hence,\n",
    "    \n",
    "     The Top 10 Geographical Hot spots for reported crimes are-\n",
    "    \n",
    "        Central      -  423\n",
    "        Northeast    -   12\n",
    "        Harbor       -   12\n",
    "        Rampart      -    8\n",
    "        Hollywood    -    6\n",
    "        77th Street  -    5\n",
    "        Wilshire     -    5\n",
    "        West LA      -    5\n",
    "        Southwest    -    4\n",
    "        Hollenbeck   -    4\n",
    "        \n",
    "        Name: AREA_NAME, dtype: int64\n",
    "\n",
    "\n",
    "\n",
    "\n",
    "\n",
    "- **Where do most crimes occur based on the \"Location\" column??**\n",
    "       \n",
    "       Most Crime has occured in the \"800 N ALAMEDA\" ST of Los Angeles\n",
    "\n",
    "The following below codes provides further details:\n"
   ]
  },
  {
   "cell_type": "code",
   "execution_count": 28,
   "id": "266541e9",
   "metadata": {},
   "outputs": [
    {
     "name": "stderr",
     "output_type": "stream",
     "text": [
      "C:\\Users\\ricky\\AppData\\Local\\Temp\\ipykernel_17872\\2140196719.py:4: UserWarning: pandas only supports SQLAlchemy connectable (engine/connection) or database string URI or sqlite3 DBAPI2 connection. Other DBAPI2 objects are not tested. Please consider using SQLAlchemy.\n",
      "  pd.read_sql_query('''\n"
     ]
    },
    {
     "data": {
      "text/html": [
       "<div>\n",
       "<style scoped>\n",
       "    .dataframe tbody tr th:only-of-type {\n",
       "        vertical-align: middle;\n",
       "    }\n",
       "\n",
       "    .dataframe tbody tr th {\n",
       "        vertical-align: top;\n",
       "    }\n",
       "\n",
       "    .dataframe thead th {\n",
       "        text-align: right;\n",
       "    }\n",
       "</style>\n",
       "<table border=\"1\" class=\"dataframe\">\n",
       "  <thead>\n",
       "    <tr style=\"text-align: right;\">\n",
       "      <th></th>\n",
       "      <th>Location</th>\n",
       "      <th>CrimeCount</th>\n",
       "    </tr>\n",
       "  </thead>\n",
       "  <tbody>\n",
       "    <tr>\n",
       "      <th>0</th>\n",
       "      <td>800 N ALAMEDA ST</td>\n",
       "      <td>14</td>\n",
       "    </tr>\n",
       "    <tr>\n",
       "      <th>1</th>\n",
       "      <td>700 W 7TH ST</td>\n",
       "      <td>11</td>\n",
       "    </tr>\n",
       "    <tr>\n",
       "      <th>2</th>\n",
       "      <td>300 E 5TH ST</td>\n",
       "      <td>6</td>\n",
       "    </tr>\n",
       "    <tr>\n",
       "      <th>3</th>\n",
       "      <td>1100 S FIGUEROA ST</td>\n",
       "      <td>6</td>\n",
       "    </tr>\n",
       "    <tr>\n",
       "      <th>4</th>\n",
       "      <td>6TH</td>\n",
       "      <td>6</td>\n",
       "    </tr>\n",
       "    <tr>\n",
       "      <th>5</th>\n",
       "      <td>600 S SPRING ST</td>\n",
       "      <td>5</td>\n",
       "    </tr>\n",
       "    <tr>\n",
       "      <th>6</th>\n",
       "      <td>100 E 5TH ST</td>\n",
       "      <td>5</td>\n",
       "    </tr>\n",
       "    <tr>\n",
       "      <th>7</th>\n",
       "      <td>7TH ST</td>\n",
       "      <td>5</td>\n",
       "    </tr>\n",
       "    <tr>\n",
       "      <th>8</th>\n",
       "      <td>500 S SAN PEDRO ST</td>\n",
       "      <td>5</td>\n",
       "    </tr>\n",
       "    <tr>\n",
       "      <th>9</th>\n",
       "      <td>800 W OLYMPIC BL</td>\n",
       "      <td>4</td>\n",
       "    </tr>\n",
       "  </tbody>\n",
       "</table>\n",
       "</div>"
      ],
      "text/plain": [
       "             Location  CrimeCount\n",
       "0    800 N ALAMEDA ST          14\n",
       "1        700 W 7TH ST          11\n",
       "2        300 E 5TH ST           6\n",
       "3  1100 S FIGUEROA ST           6\n",
       "4                 6TH           6\n",
       "5     600 S SPRING ST           5\n",
       "6        100 E 5TH ST           5\n",
       "7              7TH ST           5\n",
       "8  500 S SAN PEDRO ST           5\n",
       "9    800 W OLYMPIC BL           4"
      ]
     },
     "execution_count": 28,
     "metadata": {},
     "output_type": "execute_result"
    }
   ],
   "source": [
    "#Top 10 Location where the crimes has occurred-  Using SQL Query\n",
    "\n",
    "\n",
    "pd.read_sql_query('''\n",
    "SELECT Location, COUNT(*) AS CrimeCount\n",
    "FROM crime_data\n",
    "GROUP BY Location\n",
    "ORDER BY CrimeCount DESC\n",
    "LIMIT 10;\n",
    ";\n",
    "''',connection)"
   ]
  },
  {
   "cell_type": "code",
   "execution_count": 29,
   "id": "811ea2d8",
   "metadata": {},
   "outputs": [
    {
     "name": "stdout",
     "output_type": "stream",
     "text": [
      "Location: 800 N ALAMEDA ST\n",
      "Crimes Reported: ['BURGLARY FROM VEHICLE' 'THEFT OF IDENTITY'\n",
      " 'VANDALISM - FELONY ($400 & OVER, ALL CHURCH VANDALISMS)'\n",
      " 'BATTERY - SIMPLE ASSAULT' 'VEHICLE - STOLEN'\n",
      " 'SHOPLIFTING - PETTY THEFT ($950 & UNDER)' 'ROBBERY' 'ORAL COPULATION']\n",
      "\n",
      "Location: 700 W 7TH ST\n",
      "Crimes Reported: ['THEFT-GRAND ($950.01 & OVER)EXCPT,GUNS,FOWL,LIVESTK,PROD'\n",
      " 'BATTERY - SIMPLE ASSAULT' 'SHOPLIFTING - PETTY THEFT ($950 & UNDER)'\n",
      " 'BURGLARY' 'BURGLARY FROM VEHICLE' 'THEFT PLAIN - PETTY ($950 & UNDER)'\n",
      " 'BIKE - STOLEN' 'ASSAULT WITH DEADLY WEAPON, AGGRAVATED ASSAULT']\n",
      "\n",
      "Location: 1100 S FIGUEROA ST\n",
      "Crimes Reported: ['BURGLARY FROM VEHICLE' 'THEFT OF IDENTITY' 'ROBBERY'\n",
      " 'VANDALISM - FELONY ($400 & OVER, ALL CHURCH VANDALISMS)']\n",
      "\n",
      "Location: 300 E 5TH ST\n",
      "Crimes Reported: ['TRESPASSING' 'BATTERY - SIMPLE ASSAULT' 'BURGLARY FROM VEHICLE'\n",
      " 'DOCUMENT FORGERY / STOLEN FELONY' 'THEFT, PERSON'\n",
      " 'THEFT PLAIN - PETTY ($950 & UNDER)']\n",
      "\n",
      "Location: 6TH\n",
      "Crimes Reported: ['BURGLARY' 'THEFT FROM MOTOR VEHICLE - PETTY ($950 & UNDER)'\n",
      " 'OTHER MISCELLANEOUS CRIME' 'BATTERY - SIMPLE ASSAULT' 'BOMB SCARE'\n",
      " 'THEFT OF IDENTITY']\n",
      "\n",
      "Location: 100 E 5TH ST\n",
      "Crimes Reported: ['CRIMINAL THREATS - NO WEAPON DISPLAYED' 'BATTERY - SIMPLE ASSAULT'\n",
      " 'BURGLARY' 'BURGLARY FROM VEHICLE']\n",
      "\n",
      "Location: 600 S SPRING ST\n",
      "Crimes Reported: ['BATTERY - SIMPLE ASSAULT' 'VANDALISM - MISDEAMEANOR ($399 OR UNDER)'\n",
      " 'ATTEMPTED ROBBERY' 'VEHICLE - STOLEN']\n",
      "\n",
      "Location: 500 S SAN PEDRO ST\n",
      "Crimes Reported: ['BATTERY - SIMPLE ASSAULT' 'THEFT PLAIN - PETTY ($950 & UNDER)'\n",
      " 'BURGLARY FROM VEHICLE']\n",
      "\n",
      "Location: 7TH ST\n",
      "Crimes Reported: ['ASSAULT WITH DEADLY WEAPON, AGGRAVATED ASSAULT'\n",
      " 'THEFT FROM MOTOR VEHICLE - PETTY ($950 & UNDER)' 'VEHICLE - STOLEN'\n",
      " 'OTHER MISCELLANEOUS CRIME']\n",
      "\n",
      "Location: 700 S FLOWER ST\n",
      "Crimes Reported: ['ASSAULT WITH DEADLY WEAPON, AGGRAVATED ASSAULT' 'BRANDISH WEAPON'\n",
      " 'BATTERY - SIMPLE ASSAULT']\n",
      "\n"
     ]
    }
   ],
   "source": [
    "#To see what are the specific crimes taken place in the top 10 crime locations\n",
    "\n",
    "most_common_locations = df['Location'].value_counts().head(10).index.tolist()\n",
    "\n",
    "for location in most_common_locations:\n",
    "    crimes_at_location = df[df['Location'] == location]['Crm_Cd_Desc'].unique()\n",
    "    print(f\"Location: {location}\")\n",
    "    print(f\"Crimes Reported: {crimes_at_location}\\n\")\n"
   ]
  },
  {
   "cell_type": "code",
   "execution_count": 30,
   "id": "fe16b896",
   "metadata": {},
   "outputs": [
    {
     "data": {
      "application/vnd.plotly.v1+json": {
       "config": {
        "plotlyServerURL": "https://plot.ly"
       },
       "data": [
        {
         "hovertemplate": "<b>%{hovertext}</b><br><br>LAT=%{lat}<br>LON=%{lon}<extra></extra>",
         "hovertext": [
          "BATTERY - SIMPLE ASSAULT",
          "BATTERY - SIMPLE ASSAULT",
          "VANDALISM - MISDEAMEANOR ($399 OR UNDER)",
          "VANDALISM - FELONY ($400 & OVER, ALL CHURCH VANDALISMS)",
          "SHOPLIFTING - PETTY THEFT ($950 & UNDER)",
          "OTHER MISCELLANEOUS CRIME",
          "THEFT-GRAND ($950.01 & OVER)EXCPT,GUNS,FOWL,LIVESTK,PROD",
          "BURGLARY FROM VEHICLE",
          "CRIMINAL THREATS - NO WEAPON DISPLAYED",
          "THEFT-GRAND ($950.01 & OVER)EXCPT,GUNS,FOWL,LIVESTK,PROD",
          "ARSON",
          "SHOPLIFTING - PETTY THEFT ($950 & UNDER)",
          "THEFT OF IDENTITY",
          "SHOPLIFTING - PETTY THEFT ($950 & UNDER)",
          "ASSAULT WITH DEADLY WEAPON, AGGRAVATED ASSAULT",
          "SHOPLIFTING - PETTY THEFT ($950 & UNDER)",
          "VANDALISM - FELONY ($400 & OVER, ALL CHURCH VANDALISMS)",
          "BRANDISH WEAPON",
          "SHOPLIFTING - PETTY THEFT ($950 & UNDER)",
          "THEFT, PERSON",
          "VANDALISM - FELONY ($400 & OVER, ALL CHURCH VANDALISMS)",
          "CRIMINAL THREATS - NO WEAPON DISPLAYED",
          "BURGLARY",
          "ASSAULT WITH DEADLY WEAPON, AGGRAVATED ASSAULT",
          "VANDALISM - MISDEAMEANOR ($399 OR UNDER)",
          "BIKE - STOLEN",
          "VANDALISM - MISDEAMEANOR ($399 OR UNDER)",
          "BATTERY POLICE (SIMPLE)",
          "BATTERY POLICE (SIMPLE)",
          "THEFT PLAIN - PETTY ($950 & UNDER)",
          "BATTERY - SIMPLE ASSAULT",
          "ASSAULT WITH DEADLY WEAPON, AGGRAVATED ASSAULT",
          "BATTERY - SIMPLE ASSAULT",
          "BATTERY - SIMPLE ASSAULT",
          "THEFT-GRAND ($950.01 & OVER)EXCPT,GUNS,FOWL,LIVESTK,PROD",
          "VANDALISM - MISDEAMEANOR ($399 OR UNDER)",
          "VANDALISM - MISDEAMEANOR ($399 OR UNDER)",
          "BURGLARY",
          "VEHICLE - STOLEN",
          "THEFT PLAIN - PETTY ($950 & UNDER)",
          "THEFT-GRAND ($950.01 & OVER)EXCPT,GUNS,FOWL,LIVESTK,PROD",
          "BURGLARY FROM VEHICLE",
          "ROBBERY",
          "BATTERY - SIMPLE ASSAULT",
          "SHOPLIFTING - PETTY THEFT ($950 & UNDER)",
          "BURGLARY",
          "VIOLATION OF COURT ORDER",
          "ROBBERY",
          "BATTERY - SIMPLE ASSAULT",
          "BURGLARY",
          "SHOPLIFTING - PETTY THEFT ($950 & UNDER)",
          "TRESPASSING",
          "ASSAULT WITH DEADLY WEAPON, AGGRAVATED ASSAULT",
          "BURGLARY FROM VEHICLE",
          "THEFT PLAIN - PETTY ($950 & UNDER)",
          "ASSAULT WITH DEADLY WEAPON, AGGRAVATED ASSAULT",
          "ASSAULT WITH DEADLY WEAPON, AGGRAVATED ASSAULT",
          "TRESPASSING",
          "BATTERY - SIMPLE ASSAULT",
          "BATTERY - SIMPLE ASSAULT",
          "VEHICLE - STOLEN",
          "SHOPLIFTING - PETTY THEFT ($950 & UNDER)",
          "THEFT OF IDENTITY",
          "VANDALISM - MISDEAMEANOR ($399 OR UNDER)",
          "BURGLARY FROM VEHICLE",
          "THEFT PLAIN - PETTY ($950 & UNDER)",
          "THEFT PLAIN - PETTY ($950 & UNDER)",
          "VANDALISM - MISDEAMEANOR ($399 OR UNDER)",
          "BATTERY - SIMPLE ASSAULT",
          "BRANDISH WEAPON",
          "VANDALISM - FELONY ($400 & OVER, ALL CHURCH VANDALISMS)",
          "VANDALISM - MISDEAMEANOR ($399 OR UNDER)",
          "SHOPLIFTING - PETTY THEFT ($950 & UNDER)",
          "SHOPLIFTING - PETTY THEFT ($950 & UNDER)",
          "ROBBERY",
          "THEFT FROM MOTOR VEHICLE - PETTY ($950 & UNDER)",
          "ASSAULT WITH DEADLY WEAPON, AGGRAVATED ASSAULT",
          "THEFT-GRAND ($950.01 & OVER)EXCPT,GUNS,FOWL,LIVESTK,PROD",
          "THEFT PLAIN - PETTY ($950 & UNDER)",
          "BURGLARY FROM VEHICLE",
          "BURGLARY FROM VEHICLE",
          "BURGLARY FROM VEHICLE",
          "BURGLARY FROM VEHICLE",
          "ROBBERY",
          "BATTERY - SIMPLE ASSAULT",
          "VEHICLE - STOLEN",
          "BATTERY - SIMPLE ASSAULT",
          "BATTERY - SIMPLE ASSAULT",
          "BURGLARY FROM VEHICLE",
          "DISTURBING THE PEACE",
          "SHOPLIFTING - PETTY THEFT ($950 & UNDER)",
          "THEFT PLAIN - PETTY ($950 & UNDER)",
          "BURGLARY FROM VEHICLE",
          "SHOPLIFTING - PETTY THEFT ($950 & UNDER)",
          "THEFT PLAIN - PETTY ($950 & UNDER)",
          "SHOPLIFTING - PETTY THEFT ($950 & UNDER)",
          "TRESPASSING",
          "BATTERY - SIMPLE ASSAULT",
          "BURGLARY FROM VEHICLE",
          "BATTERY - SIMPLE ASSAULT",
          "THEFT PLAIN - PETTY ($950 & UNDER)",
          "ROBBERY",
          "THEFT PLAIN - PETTY ($950 & UNDER)",
          "THEFT FROM MOTOR VEHICLE - PETTY ($950 & UNDER)",
          "VANDALISM - FELONY ($400 & OVER, ALL CHURCH VANDALISMS)",
          "THEFT PLAIN - PETTY ($950 & UNDER)",
          "VEHICLE - STOLEN",
          "BATTERY - SIMPLE ASSAULT",
          "THEFT-GRAND ($950.01 & OVER)EXCPT,GUNS,FOWL,LIVESTK,PROD",
          "CRIMINAL THREATS - NO WEAPON DISPLAYED",
          "BATTERY POLICE (SIMPLE)",
          "BURGLARY FROM VEHICLE",
          "BURGLARY FROM VEHICLE",
          "THEFT FROM MOTOR VEHICLE - PETTY ($950 & UNDER)",
          "VANDALISM - FELONY ($400 & OVER, ALL CHURCH VANDALISMS)",
          "ROBBERY",
          "THEFT, PERSON",
          "THEFT FROM MOTOR VEHICLE - ATTEMPT",
          "TRESPASSING",
          "BATTERY - SIMPLE ASSAULT",
          "TRESPASSING",
          "OTHER MISCELLANEOUS CRIME",
          "THROWING OBJECT AT MOVING VEHICLE",
          "THEFT PLAIN - PETTY ($950 & UNDER)",
          "VANDALISM - MISDEAMEANOR ($399 OR UNDER)",
          "BURGLARY",
          "BURGLARY FROM VEHICLE",
          "THEFT FROM MOTOR VEHICLE - PETTY ($950 & UNDER)",
          "ASSAULT WITH DEADLY WEAPON, AGGRAVATED ASSAULT",
          "EXTORTION",
          "ASSAULT WITH DEADLY WEAPON, AGGRAVATED ASSAULT",
          "BURGLARY FROM VEHICLE",
          "BATTERY - SIMPLE ASSAULT",
          "BATTERY - SIMPLE ASSAULT",
          "VEHICLE - STOLEN",
          "SHOPLIFTING - PETTY THEFT ($950 & UNDER)",
          "BURGLARY FROM VEHICLE",
          "BURGLARY FROM VEHICLE",
          "THEFT OF IDENTITY",
          "BIKE - STOLEN",
          "BATTERY - SIMPLE ASSAULT",
          "BURGLARY FROM VEHICLE",
          "BATTERY - SIMPLE ASSAULT",
          "BUNCO, GRAND THEFT",
          "VEHICLE - STOLEN",
          "VANDALISM - MISDEAMEANOR ($399 OR UNDER)",
          "BURGLARY FROM VEHICLE",
          "CRIMINAL THREATS - NO WEAPON DISPLAYED",
          "THEFT PLAIN - PETTY ($950 & UNDER)",
          "VANDALISM - MISDEAMEANOR ($399 OR UNDER)",
          "BURGLARY FROM VEHICLE",
          "TRESPASSING",
          "BIKE - STOLEN",
          "BURGLARY FROM VEHICLE",
          "THEFT PLAIN - PETTY ($950 & UNDER)",
          "BURGLARY FROM VEHICLE",
          "BURGLARY FROM VEHICLE",
          "BURGLARY FROM VEHICLE",
          "BURGLARY FROM VEHICLE",
          "BATTERY - SIMPLE ASSAULT",
          "VANDALISM - FELONY ($400 & OVER, ALL CHURCH VANDALISMS)",
          "VANDALISM - FELONY ($400 & OVER, ALL CHURCH VANDALISMS)",
          "BATTERY - SIMPLE ASSAULT",
          "BURGLARY FROM VEHICLE",
          "THEFT-GRAND ($950.01 & OVER)EXCPT,GUNS,FOWL,LIVESTK,PROD",
          "BURGLARY FROM VEHICLE",
          "BIKE - STOLEN",
          "THEFT PLAIN - PETTY ($950 & UNDER)",
          "TRESPASSING",
          "VANDALISM - FELONY ($400 & OVER, ALL CHURCH VANDALISMS)",
          "BURGLARY FROM VEHICLE",
          "CRIMINAL THREATS - NO WEAPON DISPLAYED",
          "SHOPLIFTING - PETTY THEFT ($950 & UNDER)",
          "BATTERY - SIMPLE ASSAULT",
          "ATTEMPTED ROBBERY",
          "BURGLARY FROM VEHICLE",
          "OTHER ASSAULT",
          "THEFT, PERSON",
          "BOMB SCARE",
          "SHOPLIFTING - PETTY THEFT ($950 & UNDER)",
          "VEHICLE - STOLEN",
          "BURGLARY FROM VEHICLE",
          "BATTERY - SIMPLE ASSAULT",
          "BATTERY - SIMPLE ASSAULT",
          "THEFT PLAIN - PETTY ($950 & UNDER)",
          "BATTERY - SIMPLE ASSAULT",
          "THEFT-GRAND ($950.01 & OVER)EXCPT,GUNS,FOWL,LIVESTK,PROD",
          "THEFT-GRAND ($950.01 & OVER)EXCPT,GUNS,FOWL,LIVESTK,PROD",
          "THEFT PLAIN - PETTY ($950 & UNDER)",
          "THEFT PLAIN - PETTY ($950 & UNDER)",
          "VANDALISM - FELONY ($400 & OVER, ALL CHURCH VANDALISMS)",
          "BRANDISH WEAPON",
          "THEFT OF IDENTITY",
          "THEFT PLAIN - PETTY ($950 & UNDER)",
          "BURGLARY FROM VEHICLE",
          "THEFT PLAIN - PETTY ($950 & UNDER)",
          "VEHICLE - STOLEN",
          "TRESPASSING",
          "BURGLARY",
          "BIKE - STOLEN",
          "THEFT-GRAND ($950.01 & OVER)EXCPT,GUNS,FOWL,LIVESTK,PROD",
          "BUNCO, GRAND THEFT",
          "THEFT PLAIN - PETTY ($950 & UNDER)",
          "SHOPLIFTING - PETTY THEFT ($950 & UNDER)",
          "BATTERY - SIMPLE ASSAULT",
          "VANDALISM - MISDEAMEANOR ($399 OR UNDER)",
          "BIKE - STOLEN",
          "ATTEMPTED ROBBERY",
          "BURGLARY FROM VEHICLE",
          "BURGLARY FROM VEHICLE",
          "BURGLARY FROM VEHICLE",
          "THEFT-GRAND ($950.01 & OVER)EXCPT,GUNS,FOWL,LIVESTK,PROD",
          "DOCUMENT FORGERY / STOLEN FELONY",
          "ROBBERY",
          "VIOLATION OF RESTRAINING ORDER",
          "BATTERY - SIMPLE ASSAULT",
          "OTHER MISCELLANEOUS CRIME",
          "VANDALISM - FELONY ($400 & OVER, ALL CHURCH VANDALISMS)",
          "SHOPLIFTING - PETTY THEFT ($950 & UNDER)",
          "BURGLARY FROM VEHICLE",
          "THEFT-GRAND ($950.01 & OVER)EXCPT,GUNS,FOWL,LIVESTK,PROD",
          "THEFT PLAIN - PETTY ($950 & UNDER)",
          "THEFT PLAIN - PETTY ($950 & UNDER)",
          "ROBBERY",
          "THEFT, PERSON",
          "BATTERY - SIMPLE ASSAULT",
          "BURGLARY FROM VEHICLE",
          "BURGLARY FROM VEHICLE",
          "VANDALISM - MISDEAMEANOR ($399 OR UNDER)",
          "BURGLARY FROM VEHICLE",
          "BURGLARY FROM VEHICLE",
          "VIOLATION OF COURT ORDER",
          "VEHICLE - STOLEN",
          "BURGLARY FROM VEHICLE",
          "BATTERY - SIMPLE ASSAULT",
          "THEFT-GRAND ($950.01 & OVER)EXCPT,GUNS,FOWL,LIVESTK,PROD",
          "VEHICLE - STOLEN",
          "BURGLARY",
          "BATTERY - SIMPLE ASSAULT",
          "VEHICLE - STOLEN",
          "ATTEMPTED ROBBERY",
          "VEHICLE - STOLEN",
          "ASSAULT WITH DEADLY WEAPON, AGGRAVATED ASSAULT",
          "ASSAULT WITH DEADLY WEAPON, AGGRAVATED ASSAULT",
          "BATTERY - SIMPLE ASSAULT",
          "ASSAULT WITH DEADLY WEAPON, AGGRAVATED ASSAULT",
          "BURGLARY FROM VEHICLE",
          "VANDALISM - FELONY ($400 & OVER, ALL CHURCH VANDALISMS)",
          "THEFT-GRAND ($950.01 & OVER)EXCPT,GUNS,FOWL,LIVESTK,PROD",
          "BURGLARY, ATTEMPTED",
          "VANDALISM - FELONY ($400 & OVER, ALL CHURCH VANDALISMS)",
          "THEFT PLAIN - PETTY ($950 & UNDER)",
          "VANDALISM - FELONY ($400 & OVER, ALL CHURCH VANDALISMS)",
          "THEFT PLAIN - PETTY ($950 & UNDER)",
          "BATTERY - SIMPLE ASSAULT",
          "BATTERY - SIMPLE ASSAULT",
          "THEFT OF IDENTITY",
          "BURGLARY FROM VEHICLE",
          "BURGLARY FROM VEHICLE",
          "VEHICLE - STOLEN",
          "BURGLARY FROM VEHICLE",
          "VANDALISM - FELONY ($400 & OVER, ALL CHURCH VANDALISMS)",
          "BUNCO, GRAND THEFT",
          "THEFT PLAIN - PETTY ($950 & UNDER)",
          "THEFT, PERSON",
          "BATTERY - SIMPLE ASSAULT",
          "BATTERY - SIMPLE ASSAULT",
          "THEFT PLAIN - PETTY ($950 & UNDER)",
          "BRANDISH WEAPON",
          "TRESPASSING",
          "SHOPLIFTING - PETTY THEFT ($950 & UNDER)",
          "BATTERY - SIMPLE ASSAULT",
          "BATTERY - SIMPLE ASSAULT",
          "BATTERY - SIMPLE ASSAULT",
          "BATTERY - SIMPLE ASSAULT",
          "BATTERY - SIMPLE ASSAULT",
          "BATTERY - SIMPLE ASSAULT",
          "BURGLARY FROM VEHICLE",
          "BURGLARY FROM VEHICLE",
          "THEFT-GRAND ($950.01 & OVER)EXCPT,GUNS,FOWL,LIVESTK,PROD",
          "BIKE - STOLEN",
          "THEFT, PERSON",
          "THEFT-GRAND ($950.01 & OVER)EXCPT,GUNS,FOWL,LIVESTK,PROD",
          "VANDALISM - FELONY ($400 & OVER, ALL CHURCH VANDALISMS)",
          "ASSAULT WITH DEADLY WEAPON, AGGRAVATED ASSAULT",
          "VIOLATION OF RESTRAINING ORDER",
          "VANDALISM - FELONY ($400 & OVER, ALL CHURCH VANDALISMS)",
          "TRESPASSING",
          "BURGLARY FROM VEHICLE",
          "BURGLARY FROM VEHICLE",
          "ASSAULT WITH DEADLY WEAPON, AGGRAVATED ASSAULT",
          "VANDALISM - FELONY ($400 & OVER, ALL CHURCH VANDALISMS)",
          "CRIMINAL THREATS - NO WEAPON DISPLAYED",
          "SHOPLIFTING - PETTY THEFT ($950 & UNDER)",
          "BURGLARY",
          "THEFT, PERSON",
          "THEFT PLAIN - PETTY ($950 & UNDER)",
          "THEFT FROM MOTOR VEHICLE - PETTY ($950 & UNDER)",
          "THEFT-GRAND ($950.01 & OVER)EXCPT,GUNS,FOWL,LIVESTK,PROD",
          "ROBBERY",
          "BURGLARY FROM VEHICLE",
          "BURGLARY FROM VEHICLE",
          "BATTERY - SIMPLE ASSAULT",
          "BATTERY - SIMPLE ASSAULT",
          "BURGLARY FROM VEHICLE",
          "BURGLARY FROM VEHICLE",
          "VANDALISM - FELONY ($400 & OVER, ALL CHURCH VANDALISMS)",
          "TRESPASSING",
          "ROBBERY",
          "THEFT PLAIN - PETTY ($950 & UNDER)",
          "FAILURE TO YIELD",
          "TRESPASSING",
          "PURSE SNATCHING",
          "THEFT-GRAND ($950.01 & OVER)EXCPT,GUNS,FOWL,LIVESTK,PROD",
          "BIKE - STOLEN",
          "THEFT PLAIN - PETTY ($950 & UNDER)",
          "OTHER MISCELLANEOUS CRIME",
          "LETTERS, LEWD  -  TELEPHONE CALLS, LEWD",
          "BURGLARY FROM VEHICLE",
          "BATTERY - SIMPLE ASSAULT",
          "BATTERY - SIMPLE ASSAULT",
          "VEHICLE - STOLEN",
          "BURGLARY FROM VEHICLE",
          "THEFT-GRAND ($950.01 & OVER)EXCPT,GUNS,FOWL,LIVESTK,PROD",
          "BURGLARY FROM VEHICLE",
          "VANDALISM - FELONY ($400 & OVER, ALL CHURCH VANDALISMS)",
          "BURGLARY FROM VEHICLE",
          "BURGLARY FROM VEHICLE",
          "TRESPASSING",
          "ORAL COPULATION",
          "THEFT OF IDENTITY",
          "ROBBERY",
          "VEHICLE - STOLEN",
          "THEFT OF IDENTITY",
          "THEFT OF IDENTITY",
          "DISTURBING THE PEACE",
          "THEFT-GRAND ($950.01 & OVER)EXCPT,GUNS,FOWL,LIVESTK,PROD",
          "VANDALISM - FELONY ($400 & OVER, ALL CHURCH VANDALISMS)",
          "VEHICLE - STOLEN",
          "THEFT FROM MOTOR VEHICLE - PETTY ($950 & UNDER)",
          "ARSON",
          "CRM AGNST CHLD (13 OR UNDER) (14-15 & SUSP 10 YRS OLDER)",
          "VEHICLE - STOLEN",
          "VEHICLE - STOLEN",
          "BURGLARY FROM VEHICLE",
          "VEHICLE - STOLEN",
          "BATTERY - SIMPLE ASSAULT",
          "BURGLARY FROM VEHICLE",
          "BURGLARY",
          "THEFT-GRAND ($950.01 & OVER)EXCPT,GUNS,FOWL,LIVESTK,PROD",
          "CRIMINAL THREATS - NO WEAPON DISPLAYED",
          "BATTERY - SIMPLE ASSAULT",
          "ASSAULT WITH DEADLY WEAPON, AGGRAVATED ASSAULT",
          "VEHICLE - STOLEN",
          "VEHICLE - STOLEN",
          "ASSAULT WITH DEADLY WEAPON, AGGRAVATED ASSAULT",
          "BURGLARY, ATTEMPTED",
          "VANDALISM - MISDEAMEANOR ($399 OR UNDER)",
          "VIOLATION OF RESTRAINING ORDER",
          "ATTEMPTED ROBBERY",
          "THEFT PLAIN - PETTY ($950 & UNDER)",
          "TRESPASSING",
          "VANDALISM - MISDEAMEANOR ($399 OR UNDER)",
          "BATTERY - SIMPLE ASSAULT",
          "VANDALISM - FELONY ($400 & OVER, ALL CHURCH VANDALISMS)",
          "THEFT FROM MOTOR VEHICLE - PETTY ($950 & UNDER)",
          "SHOPLIFTING - PETTY THEFT ($950 & UNDER)",
          "ASSAULT WITH DEADLY WEAPON, AGGRAVATED ASSAULT",
          "OTHER ASSAULT",
          "TRESPASSING",
          "ASSAULT WITH DEADLY WEAPON, AGGRAVATED ASSAULT",
          "THEFT PLAIN - PETTY ($950 & UNDER)",
          "BURGLARY FROM VEHICLE",
          "ASSAULT WITH DEADLY WEAPON, AGGRAVATED ASSAULT",
          "BATTERY - SIMPLE ASSAULT",
          "BATTERY - SIMPLE ASSAULT",
          "BATTERY - SIMPLE ASSAULT",
          "BATTERY - SIMPLE ASSAULT",
          "BURGLARY FROM VEHICLE",
          "THEFT-GRAND ($950.01 & OVER)EXCPT,GUNS,FOWL,LIVESTK,PROD",
          "THEFT-GRAND ($950.01 & OVER)EXCPT,GUNS,FOWL,LIVESTK,PROD",
          "THEFT OF IDENTITY",
          "ASSAULT WITH DEADLY WEAPON, AGGRAVATED ASSAULT",
          "BURGLARY FROM VEHICLE",
          "BURGLARY FROM VEHICLE",
          "THEFT, PERSON",
          "BATTERY - SIMPLE ASSAULT",
          "THEFT PLAIN - PETTY ($950 & UNDER)",
          "THEFT PLAIN - PETTY ($950 & UNDER)",
          "VEHICLE - STOLEN",
          "SHOPLIFTING - PETTY THEFT ($950 & UNDER)",
          "BATTERY POLICE (SIMPLE)",
          "THEFT PLAIN - PETTY ($950 & UNDER)",
          "VANDALISM - MISDEAMEANOR ($399 OR UNDER)",
          "BURGLARY",
          "BURGLARY FROM VEHICLE",
          "TRESPASSING",
          "THEFT FROM MOTOR VEHICLE - PETTY ($950 & UNDER)",
          "ASSAULT WITH DEADLY WEAPON, AGGRAVATED ASSAULT",
          "KIDNAPPING - GRAND ATTEMPT",
          "ASSAULT WITH DEADLY WEAPON, AGGRAVATED ASSAULT",
          "BURGLARY FROM VEHICLE",
          "VANDALISM - MISDEAMEANOR ($399 OR UNDER)",
          "THEFT PLAIN - PETTY ($950 & UNDER)",
          "BURGLARY",
          "THEFT, PERSON",
          "BATTERY - SIMPLE ASSAULT",
          "VANDALISM - MISDEAMEANOR ($399 OR UNDER)",
          "BATTERY - SIMPLE ASSAULT",
          "VANDALISM - MISDEAMEANOR ($399 OR UNDER)",
          "ROBBERY",
          "BATTERY - SIMPLE ASSAULT",
          "BURGLARY FROM VEHICLE",
          "BIKE - STOLEN",
          "THEFT PLAIN - PETTY ($950 & UNDER)",
          "VANDALISM - MISDEAMEANOR ($399 OR UNDER)",
          "BURGLARY FROM VEHICLE",
          "BATTERY - SIMPLE ASSAULT",
          "BATTERY - SIMPLE ASSAULT",
          "BURGLARY FROM VEHICLE",
          "BIKE - STOLEN",
          "SHOPLIFTING - PETTY THEFT ($950 & UNDER)",
          "ARSON",
          "ASSAULT WITH DEADLY WEAPON, AGGRAVATED ASSAULT",
          "INDECENT EXPOSURE",
          "INDECENT EXPOSURE",
          "BATTERY - SIMPLE ASSAULT",
          "VANDALISM - MISDEAMEANOR ($399 OR UNDER)",
          "VEHICLE - STOLEN",
          "BATTERY - SIMPLE ASSAULT",
          "BATTERY - SIMPLE ASSAULT",
          "BUNCO, ATTEMPT",
          "BURGLARY FROM VEHICLE",
          "BURGLARY FROM VEHICLE",
          "THEFT PLAIN - PETTY ($950 & UNDER)",
          "THEFT PLAIN - PETTY ($950 & UNDER)",
          "BURGLARY FROM VEHICLE",
          "BUNCO, GRAND THEFT",
          "BUNCO, GRAND THEFT",
          "THEFT-GRAND ($950.01 & OVER)EXCPT,GUNS,FOWL,LIVESTK,PROD",
          "LETTERS, LEWD  -  TELEPHONE CALLS, LEWD",
          "BURGLARY FROM VEHICLE",
          "BATTERY POLICE (SIMPLE)",
          "VEHICLE - STOLEN",
          "THEFT OF IDENTITY",
          "BURGLARY FROM VEHICLE",
          "BATTERY - SIMPLE ASSAULT",
          "THEFT FROM MOTOR VEHICLE - PETTY ($950 & UNDER)",
          "PURSE SNATCHING",
          "TRESPASSING",
          "SHOPLIFTING - PETTY THEFT ($950 & UNDER)",
          "BURGLARY",
          "THEFT PLAIN - PETTY ($950 & UNDER)",
          "VANDALISM - MISDEAMEANOR ($399 OR UNDER)",
          "THEFT PLAIN - PETTY ($950 & UNDER)",
          "BURGLARY FROM VEHICLE",
          "BURGLARY",
          "VEHICLE - STOLEN",
          "BURGLARY",
          "BURGLARY FROM VEHICLE",
          "BURGLARY FROM VEHICLE",
          "BRANDISH WEAPON",
          "THEFT-GRAND ($950.01 & OVER)EXCPT,GUNS,FOWL,LIVESTK,PROD",
          "VEHICLE - STOLEN",
          "BURGLARY FROM VEHICLE",
          "BATTERY - SIMPLE ASSAULT",
          "SHOPLIFTING-GRAND THEFT ($950.01 & OVER)",
          "BATTERY - SIMPLE ASSAULT",
          "BURGLARY",
          "BATTERY - SIMPLE ASSAULT",
          "ASSAULT WITH DEADLY WEAPON, AGGRAVATED ASSAULT",
          "THEFT-GRAND ($950.01 & OVER)EXCPT,GUNS,FOWL,LIVESTK,PROD",
          "BURGLARY FROM VEHICLE",
          "BURGLARY FROM VEHICLE",
          "BURGLARY",
          "BURGLARY FROM VEHICLE",
          "BATTERY - SIMPLE ASSAULT",
          "SHOPLIFTING - PETTY THEFT ($950 & UNDER)",
          "BIKE - STOLEN",
          "BATTERY - SIMPLE ASSAULT",
          "TRESPASSING",
          "BURGLARY FROM VEHICLE",
          "BURGLARY FROM VEHICLE",
          "THEFT PLAIN - PETTY ($950 & UNDER)",
          "THEFT PLAIN - PETTY ($950 & UNDER)",
          "VANDALISM - FELONY ($400 & OVER, ALL CHURCH VANDALISMS)",
          "SHOPLIFTING - PETTY THEFT ($950 & UNDER)",
          "THEFT PLAIN - PETTY ($950 & UNDER)",
          "SHOPLIFTING - PETTY THEFT ($950 & UNDER)",
          "SHOPLIFTING - PETTY THEFT ($950 & UNDER)",
          "BATTERY - SIMPLE ASSAULT",
          "TRESPASSING",
          "BATTERY - SIMPLE ASSAULT",
          "VEHICLE - STOLEN",
          "BATTERY - SIMPLE ASSAULT",
          "BATTERY - SIMPLE ASSAULT",
          "BATTERY - SIMPLE ASSAULT",
          "VEHICLE - STOLEN",
          "VANDALISM - MISDEAMEANOR ($399 OR UNDER)"
         ],
         "lat": [
          34.01,
          34.05,
          34.17,
          34.22,
          34.05,
          34.04,
          34.07,
          34.04,
          34.06,
          34.05,
          34.05,
          34.05,
          34.2,
          34.08,
          34.05,
          34.05,
          34.04,
          34.07,
          34.05,
          34.05,
          34.05,
          34.05,
          34.06,
          34.04,
          34.05,
          34.03,
          34.06,
          34.05,
          34.05,
          34.05,
          34.05,
          34.04,
          34.05,
          34.05,
          34.05,
          34.06,
          34.04,
          34.06,
          34.05,
          34.04,
          34.05,
          34.03,
          34.05,
          34.04,
          34.05,
          34.06,
          34.18,
          34.05,
          34.04,
          34.04,
          34.05,
          34.05,
          34.05,
          34.04,
          34.05,
          34.04,
          34.06,
          34.05,
          34.05,
          34.04,
          33.81,
          34.05,
          34.01,
          34.05,
          34.05,
          34.04,
          34.05,
          34.04,
          34.05,
          34.04,
          34.05,
          34.05,
          34.05,
          34.05,
          34.04,
          34.05,
          34.04,
          34.05,
          34.05,
          34.04,
          34.05,
          34.04,
          34.04,
          34.08,
          34.04,
          34.01,
          34.06,
          34.04,
          34.04,
          34.06,
          34.05,
          34.06,
          34.04,
          34.05,
          34.04,
          34.05,
          34.05,
          34.05,
          34.05,
          34.06,
          34.05,
          34.04,
          34.07,
          34.07,
          34.05,
          34.05,
          34.04,
          34.06,
          34.04,
          34.05,
          34.05,
          34.04,
          34.04,
          34.04,
          34.04,
          34.06,
          34.05,
          34.05,
          34.06,
          34.04,
          34.06,
          34.04,
          34.04,
          34.05,
          34.04,
          34.03,
          34.05,
          34.05,
          34.05,
          34.11,
          34.05,
          34.06,
          34.04,
          34.06,
          34.04,
          34.05,
          34.04,
          34.05,
          34.05,
          34.05,
          34.04,
          34.06,
          34.05,
          34.03,
          34.04,
          34.12,
          34.05,
          34.05,
          34.05,
          34.05,
          34.04,
          34.06,
          34.05,
          34.05,
          34.05,
          34.04,
          34.04,
          34.04,
          34.04,
          34.05,
          34.04,
          34.05,
          34.04,
          34.05,
          34.05,
          34.04,
          34.05,
          34.05,
          34.05,
          34.04,
          34.07,
          34.06,
          34.06,
          34.05,
          34.05,
          34.06,
          34.05,
          34.05,
          34.04,
          34.05,
          34.07,
          34.05,
          34.04,
          34.05,
          34.05,
          34.04,
          34.04,
          34.04,
          34.04,
          34.05,
          34.04,
          34.04,
          34.27,
          34.05,
          34.05,
          34.05,
          34.04,
          34.05,
          34.06,
          34.05,
          34.04,
          34.05,
          34.06,
          34.05,
          34.05,
          34.07,
          34.06,
          34.06,
          34.04,
          34.03,
          34.05,
          34.05,
          34.1,
          34.1,
          34.02,
          34.06,
          34.05,
          34.04,
          34.05,
          34.04,
          34.05,
          34.05,
          34.04,
          34.23,
          34.06,
          34.04,
          34.05,
          34.04,
          34.04,
          34.05,
          34.05,
          34.05,
          34.04,
          34.04,
          34.05,
          34.04,
          34.04,
          34.05,
          34.05,
          34.04,
          34.05,
          34.06,
          34.05,
          34.05,
          34.05,
          34.04,
          34.04,
          34.04,
          34.05,
          34.06,
          34.04,
          34.04,
          34.05,
          34.04,
          34.05,
          34.04,
          34.05,
          34.05,
          34.04,
          34.07,
          34.03,
          34.06,
          34.04,
          34.06,
          34.05,
          34.05,
          34.05,
          34.05,
          34.06,
          34.06,
          34.06,
          34.05,
          34.07,
          34.05,
          34.04,
          34.04,
          34.06,
          34.05,
          34.04,
          34.04,
          34.05,
          34.04,
          34.04,
          34.05,
          34.2,
          34.06,
          34.05,
          34.21,
          34.05,
          34.04,
          34.04,
          34.05,
          34.05,
          34.05,
          34.05,
          34.05,
          34.05,
          34.04,
          34.05,
          34.05,
          34.05,
          34.05,
          34.05,
          34.05,
          34.04,
          34.06,
          34.04,
          34.05,
          34.05,
          34.05,
          33.78,
          34.05,
          34.04,
          34.04,
          34.05,
          34.05,
          34.06,
          34.05,
          34.1,
          34.04,
          34.04,
          33.72,
          34.05,
          34.06,
          34.04,
          34.08,
          34.04,
          34.04,
          33.79,
          33.98,
          34.21,
          34.1,
          34.08,
          34.05,
          34.28,
          33.71,
          34.06,
          34.14,
          34.02,
          34.06,
          34.05,
          34.06,
          34.05,
          33.85,
          34.21,
          34.07,
          34.1,
          33.78,
          34.11,
          34.04,
          33.74,
          33.98,
          33.99,
          34.11,
          34.09,
          33.99,
          34.08,
          34.11,
          34.02,
          34.05,
          34.05,
          34.14,
          34.04,
          34.06,
          33.74,
          34.06,
          34.05,
          34.05,
          34.04,
          34.05,
          34.06,
          34.06,
          34.04,
          34.06,
          34.05,
          34.05,
          34.05,
          34.05,
          34.05,
          34.05,
          34.04,
          34.05,
          34.05,
          34.04,
          34.04,
          34.04,
          34.05,
          34.05,
          34.04,
          34.04,
          34.05,
          34.05,
          34.06,
          34.05,
          34.09,
          34.04,
          34.05,
          34.05,
          34.04,
          34.05,
          33.99,
          34.04,
          34.06,
          34.05,
          34.06,
          34.04,
          34.05,
          34.05,
          34.05,
          34.05,
          34.04,
          34.05,
          34.04,
          34.04,
          34.05,
          34.05,
          34.04,
          33.96,
          34.05,
          34.05,
          34.05,
          34.05,
          34.04,
          34.06,
          34.05,
          34.05,
          34.04,
          34.05,
          34.09,
          34.13,
          34.05,
          34.05,
          34.05,
          34.04,
          34.06,
          34.05,
          34.04,
          34.06,
          34.06,
          34.05,
          34.04,
          34.04,
          34.05,
          33.75,
          34.16,
          34.05,
          34.04,
          34.05,
          34.06,
          34.05,
          34.05,
          34.05,
          34.05,
          33.74,
          34.05,
          34.05,
          34.06,
          33.8,
          34.04,
          34.05,
          34.04,
          34.06,
          34.04,
          34.07,
          34.04,
          34.04,
          34.05,
          34.04,
          34.04,
          34.04,
          34.04,
          34.07,
          34.07,
          34.05,
          34.11,
          34.05,
          34.05,
          34.05,
          34.05,
          34.05,
          34.06,
          34.05,
          34.07,
          34.08,
          34.1,
          34.07,
          34.05,
          34.14,
          34.05,
          34.05,
          34.04,
          34.06,
          34.04,
          34.05,
          34.05,
          34.05,
          34.05,
          34.05,
          34.05
         ],
         "legendgroup": "",
         "lon": [
          -118.3,
          -118.25,
          -118.4,
          -118.45,
          -118.26,
          -118.25,
          -118.24,
          -118.26,
          -118.24,
          -118.26,
          -118.26,
          -118.24,
          -118.43,
          -118.37,
          -118.25,
          -118.26,
          -118.25,
          -118.28,
          -118.26,
          -118.25,
          -118.25,
          -118.26,
          -118.24,
          -118.25,
          -118.26,
          -118.27,
          -118.24,
          -118.25,
          -118.25,
          -118.26,
          -118.25,
          -118.25,
          -118.24,
          -118.25,
          -118.26,
          -118.23,
          -118.26,
          -118.24,
          -118.25,
          -118.25,
          -118.25,
          -118.26,
          -118.26,
          -118.25,
          -118.26,
          -118.24,
          -118.45,
          -118.25,
          -118.24,
          -118.24,
          -118.26,
          -118.24,
          -118.24,
          -118.26,
          -118.25,
          -118.24,
          -118.24,
          -118.26,
          -118.26,
          -118.24,
          -118.31,
          -118.26,
          -118.45,
          -118.24,
          -118.25,
          -118.25,
          -118.24,
          -118.27,
          -118.26,
          -118.25,
          -118.24,
          -118.25,
          -118.26,
          -118.26,
          -118.24,
          -118.26,
          -118.24,
          -118.25,
          -118.24,
          -118.23,
          -118.26,
          -118.26,
          -118.26,
          -118.22,
          -118.25,
          -118.3,
          -118.24,
          -118.25,
          -118.26,
          -118.38,
          -118.26,
          -118.24,
          -118.23,
          -118.26,
          -118.25,
          -118.26,
          -118.25,
          -118.25,
          -118.26,
          -118.24,
          -118.25,
          -118.25,
          -118.25,
          -118.23,
          -118.26,
          -118.25,
          -118.25,
          -118.24,
          -118.25,
          -118.26,
          -118.24,
          -118.25,
          -118.25,
          -118.25,
          -118.27,
          -118.24,
          -118.25,
          -118.25,
          -118.24,
          -118.24,
          -118.24,
          -118.21,
          -118.26,
          -118.25,
          -118.26,
          -118.26,
          -118.26,
          -118.25,
          -118.25,
          -118.42,
          -118.24,
          -118.24,
          -118.25,
          -118.24,
          -118.23,
          -118.26,
          -118.24,
          -118.25,
          -118.26,
          -118.25,
          -118.25,
          -118.25,
          -118.26,
          -118.26,
          -118.26,
          -118.19,
          -118.26,
          -118.25,
          -118.26,
          -118.26,
          -118.27,
          -118.24,
          -118.26,
          -118.25,
          -118.25,
          -118.24,
          -118.27,
          -118.25,
          -118.26,
          -118.24,
          -118.25,
          -118.24,
          -118.27,
          -118.26,
          -118.26,
          -118.27,
          -118.26,
          -118.24,
          -118.26,
          -118.24,
          -118.23,
          -118.23,
          -118.23,
          -118.26,
          -118.24,
          -118.25,
          -118.25,
          -118.27,
          -118.27,
          -118.26,
          -118.25,
          -118.26,
          -118.26,
          -118.25,
          -118.24,
          -118.25,
          -118.26,
          -118.26,
          -118.24,
          -118.24,
          -118.25,
          -118.27,
          -118.36,
          -118.24,
          -118.24,
          -118.26,
          -118.27,
          -118.24,
          -118.24,
          -118.26,
          -118.25,
          -118.26,
          -118.24,
          -118.25,
          -118.26,
          -118.23,
          -118.24,
          -118.24,
          -118.26,
          -118.27,
          -118.26,
          -118.24,
          -118.33,
          -118.34,
          -118.3,
          -118.24,
          -118.26,
          -118.26,
          -118.26,
          -118.25,
          -118.26,
          -118.26,
          -118.25,
          -118.37,
          -118.24,
          -118.25,
          -118.24,
          -118.26,
          -118.27,
          -118.23,
          -118.24,
          -118.25,
          -118.24,
          -118.24,
          -118.25,
          -118.26,
          -118.24,
          -118.26,
          -118.25,
          -118.23,
          -118.24,
          -118.27,
          -118.24,
          -118.24,
          -118.26,
          -118.27,
          -118.25,
          -118.26,
          -118.25,
          -118.24,
          -118.27,
          -118.24,
          -118.25,
          -118.24,
          -118.25,
          -118.25,
          -118.24,
          -118.25,
          -118.27,
          -118.23,
          -118.26,
          -118.25,
          -118.26,
          -118.24,
          -118.24,
          -118.26,
          -118.25,
          -118.25,
          -118.23,
          -118.24,
          -118.24,
          -118.26,
          -118.25,
          -118.25,
          -118.24,
          -118.27,
          -118.24,
          -118.25,
          -118.24,
          -118.26,
          -118.25,
          -118.27,
          -118.26,
          -118.24,
          -118.46,
          -118.24,
          -118.24,
          -118.56,
          -118.26,
          -118.25,
          -118.24,
          -118.26,
          -118.25,
          -118.26,
          -118.25,
          -118.25,
          -118.26,
          -118.27,
          -118.26,
          -118.26,
          -118.27,
          -118.26,
          -118.25,
          -118.25,
          -118.26,
          -118.24,
          -118.26,
          -118.27,
          -118.26,
          -118.26,
          -118.28,
          -118.28,
          -118.25,
          -118.27,
          -118.25,
          -118.25,
          -118.24,
          -118.24,
          -118.33,
          -118.25,
          -118.25,
          -118.29,
          -118.23,
          -118.25,
          -118.26,
          -118.26,
          -118.25,
          -118.25,
          -118.29,
          -118.32,
          -118.41,
          -118.32,
          -118.3,
          -118.3,
          -118.47,
          -118.29,
          -118.34,
          -118.22,
          -118.2,
          -118.27,
          -118.24,
          -118.26,
          -118.26,
          -118.31,
          -118.56,
          -118.22,
          -118.33,
          -118.31,
          -118.19,
          -118.27,
          -118.29,
          -118.33,
          -118.31,
          -118.19,
          -118.28,
          -118.31,
          -118.44,
          -118.22,
          -118.35,
          -118.25,
          -118.24,
          -118.2,
          -118.25,
          -118.24,
          -118.29,
          -118.24,
          -118.26,
          -118.25,
          -118.25,
          -118.26,
          -118.24,
          -118.24,
          -118.26,
          -118.24,
          -118.26,
          -118.26,
          -118.26,
          -118.26,
          -118.25,
          -118.26,
          -118.26,
          -118.26,
          -118.26,
          -118.27,
          -118.25,
          -118.26,
          -118.23,
          -118.25,
          -118.26,
          -118.26,
          -118.26,
          -118.25,
          -118.23,
          -118.44,
          -118.28,
          -118.26,
          -118.25,
          -118.23,
          -118.26,
          -118.24,
          -118.31,
          -118.27,
          -118.26,
          -118.25,
          -118.25,
          -118.25,
          -118.25,
          -118.25,
          -118.26,
          -118.25,
          -118.25,
          -118.26,
          -118.26,
          -118.26,
          -118.26,
          -118.24,
          -118.26,
          -118.26,
          -118.25,
          -118.23,
          -118.24,
          -118.26,
          -118.25,
          -118.24,
          -118.25,
          -118.25,
          -118.25,
          -118.24,
          -118.35,
          -118.2,
          -118.25,
          -118.25,
          -118.25,
          -118.26,
          -118.23,
          -118.25,
          -118.26,
          -118.24,
          -118.24,
          -118.26,
          -118.25,
          -118.27,
          -118.23,
          -118.3,
          -118.44,
          -118.25,
          -118.25,
          -118.24,
          -118.24,
          -118.25,
          -118.26,
          -118.25,
          -118.26,
          -118.29,
          -118.26,
          -118.25,
          -118.24,
          -118.3,
          -118.4,
          -118.26,
          -118.25,
          -118.24,
          -118.26,
          -118.23,
          -118.26,
          -118.24,
          -118.26,
          -118.24,
          -118.25,
          -118.24,
          -118.25,
          -118.37,
          -118.24,
          -118.26,
          -118.24,
          -118.24,
          -118.26,
          -118.26,
          -118.26,
          -118.26,
          -118.24,
          -118.26,
          -118.23,
          -118.35,
          -118.3,
          -118.23,
          -118.26,
          -118.23,
          -118.26,
          -118.26,
          -118.24,
          -118.24,
          -118.24,
          -118.25,
          -118.26,
          -118.26,
          -118.25,
          -118.25,
          -118.24
         ],
         "marker": {
          "color": "#636efa"
         },
         "mode": "markers",
         "name": "",
         "showlegend": false,
         "subplot": "mapbox",
         "type": "scattermapbox"
        }
       ],
       "layout": {
        "legend": {
         "tracegroupgap": 0
        },
        "mapbox": {
         "center": {
          "lat": 34.04733466933868,
          "lon": -118.26128256513026
         },
         "domain": {
          "x": [
           0,
           1
          ],
          "y": [
           0,
           1
          ]
         },
         "style": "carto-darkmatter",
         "zoom": 10
        },
        "margin": {
         "b": 0,
         "l": 0,
         "r": 0,
         "t": 30
        },
        "template": {
         "data": {
          "bar": [
           {
            "error_x": {
             "color": "#2a3f5f"
            },
            "error_y": {
             "color": "#2a3f5f"
            },
            "marker": {
             "line": {
              "color": "#E5ECF6",
              "width": 0.5
             },
             "pattern": {
              "fillmode": "overlay",
              "size": 10,
              "solidity": 0.2
             }
            },
            "type": "bar"
           }
          ],
          "barpolar": [
           {
            "marker": {
             "line": {
              "color": "#E5ECF6",
              "width": 0.5
             },
             "pattern": {
              "fillmode": "overlay",
              "size": 10,
              "solidity": 0.2
             }
            },
            "type": "barpolar"
           }
          ],
          "carpet": [
           {
            "aaxis": {
             "endlinecolor": "#2a3f5f",
             "gridcolor": "white",
             "linecolor": "white",
             "minorgridcolor": "white",
             "startlinecolor": "#2a3f5f"
            },
            "baxis": {
             "endlinecolor": "#2a3f5f",
             "gridcolor": "white",
             "linecolor": "white",
             "minorgridcolor": "white",
             "startlinecolor": "#2a3f5f"
            },
            "type": "carpet"
           }
          ],
          "choropleth": [
           {
            "colorbar": {
             "outlinewidth": 0,
             "ticks": ""
            },
            "type": "choropleth"
           }
          ],
          "contour": [
           {
            "colorbar": {
             "outlinewidth": 0,
             "ticks": ""
            },
            "colorscale": [
             [
              0,
              "#0d0887"
             ],
             [
              0.1111111111111111,
              "#46039f"
             ],
             [
              0.2222222222222222,
              "#7201a8"
             ],
             [
              0.3333333333333333,
              "#9c179e"
             ],
             [
              0.4444444444444444,
              "#bd3786"
             ],
             [
              0.5555555555555556,
              "#d8576b"
             ],
             [
              0.6666666666666666,
              "#ed7953"
             ],
             [
              0.7777777777777778,
              "#fb9f3a"
             ],
             [
              0.8888888888888888,
              "#fdca26"
             ],
             [
              1,
              "#f0f921"
             ]
            ],
            "type": "contour"
           }
          ],
          "contourcarpet": [
           {
            "colorbar": {
             "outlinewidth": 0,
             "ticks": ""
            },
            "type": "contourcarpet"
           }
          ],
          "heatmap": [
           {
            "colorbar": {
             "outlinewidth": 0,
             "ticks": ""
            },
            "colorscale": [
             [
              0,
              "#0d0887"
             ],
             [
              0.1111111111111111,
              "#46039f"
             ],
             [
              0.2222222222222222,
              "#7201a8"
             ],
             [
              0.3333333333333333,
              "#9c179e"
             ],
             [
              0.4444444444444444,
              "#bd3786"
             ],
             [
              0.5555555555555556,
              "#d8576b"
             ],
             [
              0.6666666666666666,
              "#ed7953"
             ],
             [
              0.7777777777777778,
              "#fb9f3a"
             ],
             [
              0.8888888888888888,
              "#fdca26"
             ],
             [
              1,
              "#f0f921"
             ]
            ],
            "type": "heatmap"
           }
          ],
          "heatmapgl": [
           {
            "colorbar": {
             "outlinewidth": 0,
             "ticks": ""
            },
            "colorscale": [
             [
              0,
              "#0d0887"
             ],
             [
              0.1111111111111111,
              "#46039f"
             ],
             [
              0.2222222222222222,
              "#7201a8"
             ],
             [
              0.3333333333333333,
              "#9c179e"
             ],
             [
              0.4444444444444444,
              "#bd3786"
             ],
             [
              0.5555555555555556,
              "#d8576b"
             ],
             [
              0.6666666666666666,
              "#ed7953"
             ],
             [
              0.7777777777777778,
              "#fb9f3a"
             ],
             [
              0.8888888888888888,
              "#fdca26"
             ],
             [
              1,
              "#f0f921"
             ]
            ],
            "type": "heatmapgl"
           }
          ],
          "histogram": [
           {
            "marker": {
             "pattern": {
              "fillmode": "overlay",
              "size": 10,
              "solidity": 0.2
             }
            },
            "type": "histogram"
           }
          ],
          "histogram2d": [
           {
            "colorbar": {
             "outlinewidth": 0,
             "ticks": ""
            },
            "colorscale": [
             [
              0,
              "#0d0887"
             ],
             [
              0.1111111111111111,
              "#46039f"
             ],
             [
              0.2222222222222222,
              "#7201a8"
             ],
             [
              0.3333333333333333,
              "#9c179e"
             ],
             [
              0.4444444444444444,
              "#bd3786"
             ],
             [
              0.5555555555555556,
              "#d8576b"
             ],
             [
              0.6666666666666666,
              "#ed7953"
             ],
             [
              0.7777777777777778,
              "#fb9f3a"
             ],
             [
              0.8888888888888888,
              "#fdca26"
             ],
             [
              1,
              "#f0f921"
             ]
            ],
            "type": "histogram2d"
           }
          ],
          "histogram2dcontour": [
           {
            "colorbar": {
             "outlinewidth": 0,
             "ticks": ""
            },
            "colorscale": [
             [
              0,
              "#0d0887"
             ],
             [
              0.1111111111111111,
              "#46039f"
             ],
             [
              0.2222222222222222,
              "#7201a8"
             ],
             [
              0.3333333333333333,
              "#9c179e"
             ],
             [
              0.4444444444444444,
              "#bd3786"
             ],
             [
              0.5555555555555556,
              "#d8576b"
             ],
             [
              0.6666666666666666,
              "#ed7953"
             ],
             [
              0.7777777777777778,
              "#fb9f3a"
             ],
             [
              0.8888888888888888,
              "#fdca26"
             ],
             [
              1,
              "#f0f921"
             ]
            ],
            "type": "histogram2dcontour"
           }
          ],
          "mesh3d": [
           {
            "colorbar": {
             "outlinewidth": 0,
             "ticks": ""
            },
            "type": "mesh3d"
           }
          ],
          "parcoords": [
           {
            "line": {
             "colorbar": {
              "outlinewidth": 0,
              "ticks": ""
             }
            },
            "type": "parcoords"
           }
          ],
          "pie": [
           {
            "automargin": true,
            "type": "pie"
           }
          ],
          "scatter": [
           {
            "fillpattern": {
             "fillmode": "overlay",
             "size": 10,
             "solidity": 0.2
            },
            "type": "scatter"
           }
          ],
          "scatter3d": [
           {
            "line": {
             "colorbar": {
              "outlinewidth": 0,
              "ticks": ""
             }
            },
            "marker": {
             "colorbar": {
              "outlinewidth": 0,
              "ticks": ""
             }
            },
            "type": "scatter3d"
           }
          ],
          "scattercarpet": [
           {
            "marker": {
             "colorbar": {
              "outlinewidth": 0,
              "ticks": ""
             }
            },
            "type": "scattercarpet"
           }
          ],
          "scattergeo": [
           {
            "marker": {
             "colorbar": {
              "outlinewidth": 0,
              "ticks": ""
             }
            },
            "type": "scattergeo"
           }
          ],
          "scattergl": [
           {
            "marker": {
             "colorbar": {
              "outlinewidth": 0,
              "ticks": ""
             }
            },
            "type": "scattergl"
           }
          ],
          "scattermapbox": [
           {
            "marker": {
             "colorbar": {
              "outlinewidth": 0,
              "ticks": ""
             }
            },
            "type": "scattermapbox"
           }
          ],
          "scatterpolar": [
           {
            "marker": {
             "colorbar": {
              "outlinewidth": 0,
              "ticks": ""
             }
            },
            "type": "scatterpolar"
           }
          ],
          "scatterpolargl": [
           {
            "marker": {
             "colorbar": {
              "outlinewidth": 0,
              "ticks": ""
             }
            },
            "type": "scatterpolargl"
           }
          ],
          "scatterternary": [
           {
            "marker": {
             "colorbar": {
              "outlinewidth": 0,
              "ticks": ""
             }
            },
            "type": "scatterternary"
           }
          ],
          "surface": [
           {
            "colorbar": {
             "outlinewidth": 0,
             "ticks": ""
            },
            "colorscale": [
             [
              0,
              "#0d0887"
             ],
             [
              0.1111111111111111,
              "#46039f"
             ],
             [
              0.2222222222222222,
              "#7201a8"
             ],
             [
              0.3333333333333333,
              "#9c179e"
             ],
             [
              0.4444444444444444,
              "#bd3786"
             ],
             [
              0.5555555555555556,
              "#d8576b"
             ],
             [
              0.6666666666666666,
              "#ed7953"
             ],
             [
              0.7777777777777778,
              "#fb9f3a"
             ],
             [
              0.8888888888888888,
              "#fdca26"
             ],
             [
              1,
              "#f0f921"
             ]
            ],
            "type": "surface"
           }
          ],
          "table": [
           {
            "cells": {
             "fill": {
              "color": "#EBF0F8"
             },
             "line": {
              "color": "white"
             }
            },
            "header": {
             "fill": {
              "color": "#C8D4E3"
             },
             "line": {
              "color": "white"
             }
            },
            "type": "table"
           }
          ]
         },
         "layout": {
          "annotationdefaults": {
           "arrowcolor": "#2a3f5f",
           "arrowhead": 0,
           "arrowwidth": 1
          },
          "autotypenumbers": "strict",
          "coloraxis": {
           "colorbar": {
            "outlinewidth": 0,
            "ticks": ""
           }
          },
          "colorscale": {
           "diverging": [
            [
             0,
             "#8e0152"
            ],
            [
             0.1,
             "#c51b7d"
            ],
            [
             0.2,
             "#de77ae"
            ],
            [
             0.3,
             "#f1b6da"
            ],
            [
             0.4,
             "#fde0ef"
            ],
            [
             0.5,
             "#f7f7f7"
            ],
            [
             0.6,
             "#e6f5d0"
            ],
            [
             0.7,
             "#b8e186"
            ],
            [
             0.8,
             "#7fbc41"
            ],
            [
             0.9,
             "#4d9221"
            ],
            [
             1,
             "#276419"
            ]
           ],
           "sequential": [
            [
             0,
             "#0d0887"
            ],
            [
             0.1111111111111111,
             "#46039f"
            ],
            [
             0.2222222222222222,
             "#7201a8"
            ],
            [
             0.3333333333333333,
             "#9c179e"
            ],
            [
             0.4444444444444444,
             "#bd3786"
            ],
            [
             0.5555555555555556,
             "#d8576b"
            ],
            [
             0.6666666666666666,
             "#ed7953"
            ],
            [
             0.7777777777777778,
             "#fb9f3a"
            ],
            [
             0.8888888888888888,
             "#fdca26"
            ],
            [
             1,
             "#f0f921"
            ]
           ],
           "sequentialminus": [
            [
             0,
             "#0d0887"
            ],
            [
             0.1111111111111111,
             "#46039f"
            ],
            [
             0.2222222222222222,
             "#7201a8"
            ],
            [
             0.3333333333333333,
             "#9c179e"
            ],
            [
             0.4444444444444444,
             "#bd3786"
            ],
            [
             0.5555555555555556,
             "#d8576b"
            ],
            [
             0.6666666666666666,
             "#ed7953"
            ],
            [
             0.7777777777777778,
             "#fb9f3a"
            ],
            [
             0.8888888888888888,
             "#fdca26"
            ],
            [
             1,
             "#f0f921"
            ]
           ]
          },
          "colorway": [
           "#636efa",
           "#EF553B",
           "#00cc96",
           "#ab63fa",
           "#FFA15A",
           "#19d3f3",
           "#FF6692",
           "#B6E880",
           "#FF97FF",
           "#FECB52"
          ],
          "font": {
           "color": "#2a3f5f"
          },
          "geo": {
           "bgcolor": "white",
           "lakecolor": "white",
           "landcolor": "#E5ECF6",
           "showlakes": true,
           "showland": true,
           "subunitcolor": "white"
          },
          "hoverlabel": {
           "align": "left"
          },
          "hovermode": "closest",
          "mapbox": {
           "style": "light"
          },
          "paper_bgcolor": "white",
          "plot_bgcolor": "#E5ECF6",
          "polar": {
           "angularaxis": {
            "gridcolor": "white",
            "linecolor": "white",
            "ticks": ""
           },
           "bgcolor": "#E5ECF6",
           "radialaxis": {
            "gridcolor": "white",
            "linecolor": "white",
            "ticks": ""
           }
          },
          "scene": {
           "xaxis": {
            "backgroundcolor": "#E5ECF6",
            "gridcolor": "white",
            "gridwidth": 2,
            "linecolor": "white",
            "showbackground": true,
            "ticks": "",
            "zerolinecolor": "white"
           },
           "yaxis": {
            "backgroundcolor": "#E5ECF6",
            "gridcolor": "white",
            "gridwidth": 2,
            "linecolor": "white",
            "showbackground": true,
            "ticks": "",
            "zerolinecolor": "white"
           },
           "zaxis": {
            "backgroundcolor": "#E5ECF6",
            "gridcolor": "white",
            "gridwidth": 2,
            "linecolor": "white",
            "showbackground": true,
            "ticks": "",
            "zerolinecolor": "white"
           }
          },
          "shapedefaults": {
           "line": {
            "color": "#2a3f5f"
           }
          },
          "ternary": {
           "aaxis": {
            "gridcolor": "white",
            "linecolor": "white",
            "ticks": ""
           },
           "baxis": {
            "gridcolor": "white",
            "linecolor": "white",
            "ticks": ""
           },
           "bgcolor": "#E5ECF6",
           "caxis": {
            "gridcolor": "white",
            "linecolor": "white",
            "ticks": ""
           }
          },
          "title": {
           "x": 0.05
          },
          "xaxis": {
           "automargin": true,
           "gridcolor": "white",
           "linecolor": "white",
           "ticks": "",
           "title": {
            "standoff": 15
           },
           "zerolinecolor": "white",
           "zerolinewidth": 2
          },
          "yaxis": {
           "automargin": true,
           "gridcolor": "white",
           "linecolor": "white",
           "ticks": "",
           "title": {
            "standoff": 15
           },
           "zerolinecolor": "white",
           "zerolinewidth": 2
          }
         }
        },
        "title": {
         "text": "Crime Locations"
        }
       }
      }
     },
     "metadata": {},
     "output_type": "display_data"
    }
   ],
   "source": [
    "#Getting hotspots on the map as per the crime description-Using Plotly-express\n",
    "\n",
    "fig = px.scatter_mapbox(\n",
    "    df,\n",
    "    lat='LAT',\n",
    "    lon='LON',\n",
    "    hover_name='Crm_Cd_Desc',  \n",
    "    mapbox_style='carto-darkmatter',\n",
    "    zoom=10  )\n",
    "\n",
    "fig.update_layout(\n",
    "    title='Crime Locations',\n",
    "    margin=dict(l=0, r=0, t=30, b=0)  \n",
    ")\n",
    "\n",
    "fig.show()\n"
   ]
  },
  {
   "cell_type": "code",
   "execution_count": 31,
   "id": "81620778",
   "metadata": {},
   "outputs": [
    {
     "data": {
      "text/plain": [
       "Central        423\n",
       "Northeast       12\n",
       "Harbor          12\n",
       "Rampart          8\n",
       "Hollywood        6\n",
       "77th Street      5\n",
       "Wilshire         5\n",
       "West LA          5\n",
       "Southwest        4\n",
       "Hollenbeck       4\n",
       "Van Nuys         4\n",
       "Foothill         2\n",
       "West Valley      2\n",
       "N Hollywood      2\n",
       "Pacific          1\n",
       "Mission          1\n",
       "Olympic          1\n",
       "Devonshire       1\n",
       "Southeast        1\n",
       "Name: AREA_NAME, dtype: int64"
      ]
     },
     "execution_count": 31,
     "metadata": {},
     "output_type": "execute_result"
    }
   ],
   "source": [
    "#Central has the most committed crimes in LosAngeles\n",
    "\n",
    "\n",
    "df[\"AREA_NAME\"].value_counts()"
   ]
  },
  {
   "cell_type": "code",
   "execution_count": 32,
   "id": "61de2d01",
   "metadata": {},
   "outputs": [
    {
     "data": {
      "text/html": [
       "<div>\n",
       "<style scoped>\n",
       "    .dataframe tbody tr th:only-of-type {\n",
       "        vertical-align: middle;\n",
       "    }\n",
       "\n",
       "    .dataframe tbody tr th {\n",
       "        vertical-align: top;\n",
       "    }\n",
       "\n",
       "    .dataframe thead th {\n",
       "        text-align: right;\n",
       "    }\n",
       "</style>\n",
       "<table border=\"1\" class=\"dataframe\">\n",
       "  <thead>\n",
       "    <tr style=\"text-align: right;\">\n",
       "      <th></th>\n",
       "      <th>AREA_NAME</th>\n",
       "      <th>Crm_Cd_Desc</th>\n",
       "    </tr>\n",
       "  </thead>\n",
       "  <tbody>\n",
       "    <tr>\n",
       "      <th>1</th>\n",
       "      <td>Central</td>\n",
       "      <td>BATTERY - SIMPLE ASSAULT</td>\n",
       "    </tr>\n",
       "    <tr>\n",
       "      <th>4</th>\n",
       "      <td>Central</td>\n",
       "      <td>SHOPLIFTING - PETTY THEFT ($950 &amp; UNDER)</td>\n",
       "    </tr>\n",
       "    <tr>\n",
       "      <th>5</th>\n",
       "      <td>Central</td>\n",
       "      <td>OTHER MISCELLANEOUS CRIME</td>\n",
       "    </tr>\n",
       "    <tr>\n",
       "      <th>6</th>\n",
       "      <td>Central</td>\n",
       "      <td>THEFT-GRAND ($950.01 &amp; OVER)EXCPT,GUNS,FOWL,LI...</td>\n",
       "    </tr>\n",
       "    <tr>\n",
       "      <th>7</th>\n",
       "      <td>Central</td>\n",
       "      <td>BURGLARY FROM VEHICLE</td>\n",
       "    </tr>\n",
       "    <tr>\n",
       "      <th>...</th>\n",
       "      <td>...</td>\n",
       "      <td>...</td>\n",
       "    </tr>\n",
       "    <tr>\n",
       "      <th>494</th>\n",
       "      <td>Central</td>\n",
       "      <td>BATTERY - SIMPLE ASSAULT</td>\n",
       "    </tr>\n",
       "    <tr>\n",
       "      <th>495</th>\n",
       "      <td>Central</td>\n",
       "      <td>BATTERY - SIMPLE ASSAULT</td>\n",
       "    </tr>\n",
       "    <tr>\n",
       "      <th>496</th>\n",
       "      <td>Central</td>\n",
       "      <td>BATTERY - SIMPLE ASSAULT</td>\n",
       "    </tr>\n",
       "    <tr>\n",
       "      <th>497</th>\n",
       "      <td>Central</td>\n",
       "      <td>VEHICLE - STOLEN</td>\n",
       "    </tr>\n",
       "    <tr>\n",
       "      <th>498</th>\n",
       "      <td>Central</td>\n",
       "      <td>VANDALISM - MISDEAMEANOR ($399 OR UNDER)</td>\n",
       "    </tr>\n",
       "  </tbody>\n",
       "</table>\n",
       "<p>423 rows × 2 columns</p>\n",
       "</div>"
      ],
      "text/plain": [
       "    AREA_NAME                                        Crm_Cd_Desc\n",
       "1     Central                           BATTERY - SIMPLE ASSAULT\n",
       "4     Central           SHOPLIFTING - PETTY THEFT ($950 & UNDER)\n",
       "5     Central                          OTHER MISCELLANEOUS CRIME\n",
       "6     Central  THEFT-GRAND ($950.01 & OVER)EXCPT,GUNS,FOWL,LI...\n",
       "7     Central                              BURGLARY FROM VEHICLE\n",
       "..        ...                                                ...\n",
       "494   Central                           BATTERY - SIMPLE ASSAULT\n",
       "495   Central                           BATTERY - SIMPLE ASSAULT\n",
       "496   Central                           BATTERY - SIMPLE ASSAULT\n",
       "497   Central                                   VEHICLE - STOLEN\n",
       "498   Central           VANDALISM - MISDEAMEANOR ($399 OR UNDER)\n",
       "\n",
       "[423 rows x 2 columns]"
      ]
     },
     "execution_count": 32,
     "metadata": {},
     "output_type": "execute_result"
    }
   ],
   "source": [
    "#Specific crimes occured in Central\n",
    "\n",
    "df[df[\"AREA_NAME\"]==\"Central\"][[\"AREA_NAME\",\"Crm_Cd_Desc\"]]"
   ]
  },
  {
   "cell_type": "code",
   "execution_count": 33,
   "id": "20af48c6",
   "metadata": {},
   "outputs": [
    {
     "data": {
      "text/html": [
       "<div>\n",
       "<style scoped>\n",
       "    .dataframe tbody tr th:only-of-type {\n",
       "        vertical-align: middle;\n",
       "    }\n",
       "\n",
       "    .dataframe tbody tr th {\n",
       "        vertical-align: top;\n",
       "    }\n",
       "\n",
       "    .dataframe thead th {\n",
       "        text-align: right;\n",
       "    }\n",
       "</style>\n",
       "<table border=\"1\" class=\"dataframe\">\n",
       "  <thead>\n",
       "    <tr style=\"text-align: right;\">\n",
       "      <th></th>\n",
       "      <th>AREA_NAME</th>\n",
       "      <th>Crm_Cd_Desc</th>\n",
       "    </tr>\n",
       "  </thead>\n",
       "  <tbody>\n",
       "    <tr>\n",
       "      <th>0</th>\n",
       "      <td>Central</td>\n",
       "      <td>BURGLARY FROM VEHICLE</td>\n",
       "    </tr>\n",
       "  </tbody>\n",
       "</table>\n",
       "</div>"
      ],
      "text/plain": [
       "  AREA_NAME            Crm_Cd_Desc\n",
       "0   Central  BURGLARY FROM VEHICLE"
      ]
     },
     "execution_count": 33,
     "metadata": {},
     "output_type": "execute_result"
    }
   ],
   "source": [
    "#Moslty Occured Crime IN Central-Los Angeles\n",
    "\n",
    "\n",
    "df[df[\"AREA_NAME\"]==\"Central\"][[\"AREA_NAME\",\"Crm_Cd_Desc\"]].mode()"
   ]
  },
  {
   "cell_type": "code",
   "execution_count": 34,
   "id": "6d18f128",
   "metadata": {},
   "outputs": [
    {
     "name": "stdout",
     "output_type": "stream",
     "text": [
      "The number of occurrences of 'BURGLARY FROM VEHICLE' in 'Central' area: 79\n"
     ]
    }
   ],
   "source": [
    "#finding the number of times the BURGLARY FROM VEHICLE has happened in Central\n",
    "\n",
    "\n",
    "crime_description = 'BURGLARY FROM VEHICLE'\n",
    "\n",
    "central_crime = df[df['AREA_NAME'] == 'Central']\n",
    "specific_crime_count = central_crime[central_crime['Crm_Cd_Desc'] == crime_description].shape[0]\n",
    "\n",
    "print(f\"The number of occurrences of '{crime_description}' in 'Central' area: {specific_crime_count}\")\n"
   ]
  },
  {
   "cell_type": "markdown",
   "id": "8d61d9ef",
   "metadata": {},
   "source": [
    "<div style=\"background-color: #ffeeba; padding: 10px;\">\n",
    "    <h3 style=\"color: #1f497d;\">Question 2</h3>\n",
    "    <p><strong>What is the distribution of reported crimes based on Crime Code?</strong></p>\n",
    "</div>\n",
    "\n"
   ]
  },
  {
   "cell_type": "markdown",
   "id": "d9c2f78b",
   "metadata": {},
   "source": [
    "<font color='blue'><strong>Answer:</strong></font>\n",
    "\n",
    "- **What is the distribution of reported crimes based on Crime Code?**\n",
    "    \n",
    "    As per the graph there are 42 unique crime codes out of which the most commited crime code is 330 -whose crime description is BURGLARY FROM VEHICLE, which is the most commited crime as per the previous analysis\n",
    "    \n",
    "    \n",
    "The following below codes provides further details:\n",
    "\n"
   ]
  },
  {
   "cell_type": "code",
   "execution_count": 35,
   "id": "34699e4f",
   "metadata": {},
   "outputs": [
    {
     "data": {
      "image/png": "[encoded data removed]",
      "text/plain": [
       "<Figure size 1000x600 with 1 Axes>"
      ]
     },
     "metadata": {},
     "output_type": "display_data"
    }
   ],
   "source": [
    "#Graphical Representation of the crime code distribution \n",
    "\n",
    "plt.figure(figsize=(10, 6))\n",
    "crime_code_counts = df['Crm_Cd'].value_counts()\n",
    "\n",
    "colors = ['#1f77b4', '#ff7f0e', '#2ca02c', '#d62728']  \n",
    "\n",
    "crime_code_counts.plot(kind='bar', color=colors)\n",
    "plt.title('Distribution of Reported Crimes by Crime Code')\n",
    "plt.xlabel('Crime Code')\n",
    "plt.ylabel('Number of Reports')\n",
    "plt.show()\n"
   ]
  },
  {
   "cell_type": "markdown",
   "id": "bde64b26",
   "metadata": {},
   "source": [
    "# VICTIMS DEMOGRAPHICS\n",
    "\n",
    "      \n",
    " - Investigate the distribution of victim ages and genders.\n",
    " \n",
    " - Identify common premises descriptions where crimes occur."
   ]
  },
  {
   "cell_type": "markdown",
   "id": "ab2add0d",
   "metadata": {},
   "source": [
    "<div style=\"background-color: #ffeeba; padding: 10px;\">\n",
    "    <h3 style=\"color: #856404;\">Question 3</h3>\n",
    "    <ul>\n",
    "        <li><strong>What is the distribution of victim ages in reported crimes?</strong></li>\n",
    "        <li><strong>Is there a significant difference in crime rates between male and female victims?</strong></li>\n",
    "    </ul>\n",
    "</div>\n"
   ]
  },
  {
   "cell_type": "markdown",
   "id": "185c747e",
   "metadata": {},
   "source": [
    "<font color='blue'><strong>Answer:</strong></font>\n",
    "\n",
    "- **What is the distribution of victim ages in reported crimes?**\n",
    "    - The distribution of Vict_Age ranges from 0 to 78.\n",
    "\n",
    "- **Is there a significant difference in crime rates between male and female victims?**\n",
    "    - Yes, there is a significant difference in crime rates between male and female victims. Approximately 63% of the reported crimes involve male victims, 31% involve female victims, and 5.4% are unspecified gender.\n",
    "\n",
    "The following below codes provides further details:\n",
    "\n",
    "\n",
    "\n"
   ]
  },
  {
   "cell_type": "code",
   "execution_count": 36,
   "id": "149fc6fb",
   "metadata": {},
   "outputs": [
    {
     "data": {
      "text/plain": [
       "0"
      ]
     },
     "execution_count": 36,
     "metadata": {},
     "output_type": "execute_result"
    }
   ],
   "source": [
    "#Minimum age of the victim\n",
    "df[\"Vict_Age\"].min()"
   ]
  },
  {
   "cell_type": "code",
   "execution_count": 37,
   "id": "73c46583",
   "metadata": {},
   "outputs": [
    {
     "data": {
      "text/plain": [
       "78"
      ]
     },
     "execution_count": 37,
     "metadata": {},
     "output_type": "execute_result"
    }
   ],
   "source": [
    "#maximum age of the victim\n",
    "df[\"Vict_Age\"].max()"
   ]
  },
  {
   "cell_type": "raw",
   "id": "1536e88a",
   "metadata": {},
   "source": [
    "THE FOLLOWING DATA HAD 4 VALUES IN THE Vict_Sex=M,F,X AND BLANK. HENCE REPLACING X WITH MODE OF THE GENDER AND BLANK WITH UNKNOWN"
   ]
  },
  {
   "cell_type": "code",
   "execution_count": 38,
   "id": "2f40f4cd",
   "metadata": {},
   "outputs": [],
   "source": [
    "# Replacing empty strings with 'Unknown'\n",
    "\n",
    "df['Vict_Sex'].replace('', 'Unknown', inplace=True)\n"
   ]
  },
  {
   "cell_type": "code",
   "execution_count": 39,
   "id": "19e979a6",
   "metadata": {},
   "outputs": [],
   "source": [
    "#Replacing X-gender with the mode of 'Vict_Sex'\n",
    "\n",
    "\n",
    "mode_gender = df['Vict_Sex'].mode()[0] \n",
    "\n",
    "df['Vict_Sex'].replace('X', mode_gender, inplace=True)\n"
   ]
  },
  {
   "cell_type": "code",
   "execution_count": 40,
   "id": "f4269b52",
   "metadata": {},
   "outputs": [
    {
     "data": {
      "text/plain": [
       "M          317\n",
       "F          155\n",
       "Unknown     27\n",
       "Name: Vict_Sex, dtype: int64"
      ]
     },
     "execution_count": 40,
     "metadata": {},
     "output_type": "execute_result"
    }
   ],
   "source": [
    "#to see the number of victims in respect of their gender\n",
    "\n",
    "df[\"Vict_Sex\"].value_counts()"
   ]
  },
  {
   "cell_type": "code",
   "execution_count": 41,
   "id": "41a22aaf",
   "metadata": {},
   "outputs": [
    {
     "data": {
      "image/png": "[encoded data removed]",
      "text/plain": [
       "<Figure size 800x600 with 1 Axes>"
      ]
     },
     "metadata": {},
     "output_type": "display_data"
    }
   ],
   "source": [
    "# Distribution of victim ages using a histogram\n",
    "\n",
    "\n",
    "plt.figure(figsize=(8, 6))\n",
    "sns.histplot(df['Vict_Age'], bins=20, kde=True, color='skyblue')\n",
    "plt.title('Distribution of Victim Ages')\n",
    "plt.xlabel('Age')\n",
    "plt.ylabel('Frequency')\n",
    "plt.show()\n",
    "\n"
   ]
  },
  {
   "cell_type": "code",
   "execution_count": 42,
   "id": "19308a2a",
   "metadata": {},
   "outputs": [
    {
     "data": {
      "image/png": "[encoded data removed]",
      "text/plain": [
       "<Figure size 600x600 with 1 Axes>"
      ]
     },
     "metadata": {},
     "output_type": "display_data"
    }
   ],
   "source": [
    "# Distribution of victim genders as per their percentage\n",
    "\n",
    "plt.figure(figsize=(6, 6))\n",
    "df['Vict_Sex'].value_counts().plot(kind='pie', autopct='%1.1f%%', colors=['#1f77b4', '#ff7f0e', '#2ca02c'])\n",
    "plt.title('Distribution of Victim Genders')\n",
    "plt.ylabel('')  \n",
    "plt.show()"
   ]
  },
  {
   "cell_type": "code",
   "execution_count": 43,
   "id": "85911175",
   "metadata": {},
   "outputs": [
    {
     "data": {
      "text/html": [
       "<div>\n",
       "<style scoped>\n",
       "    .dataframe tbody tr th:only-of-type {\n",
       "        vertical-align: middle;\n",
       "    }\n",
       "\n",
       "    .dataframe tbody tr th {\n",
       "        vertical-align: top;\n",
       "    }\n",
       "\n",
       "    .dataframe thead th {\n",
       "        text-align: right;\n",
       "    }\n",
       "</style>\n",
       "<table border=\"1\" class=\"dataframe\">\n",
       "  <thead>\n",
       "    <tr style=\"text-align: right;\">\n",
       "      <th></th>\n",
       "      <th>Crm_Cd_Desc</th>\n",
       "      <th>Premis_Desc</th>\n",
       "    </tr>\n",
       "  </thead>\n",
       "  <tbody>\n",
       "    <tr>\n",
       "      <th>0</th>\n",
       "      <td>VEHICLE - STOLEN</td>\n",
       "      <td>STREET</td>\n",
       "    </tr>\n",
       "  </tbody>\n",
       "</table>\n",
       "</div>"
      ],
      "text/plain": [
       "        Crm_Cd_Desc Premis_Desc\n",
       "0  VEHICLE - STOLEN      STREET"
      ]
     },
     "execution_count": 43,
     "metadata": {},
     "output_type": "execute_result"
    }
   ],
   "source": [
    "#Finding the Premise description for the crimes happend to age = 0 (assuming it to be an infant)\n",
    "\n",
    "df[df[\"Vict_Age\"]==0][[\"Crm_Cd_Desc\",\"Premis_Desc\"]].mode()"
   ]
  },
  {
   "cell_type": "code",
   "execution_count": 44,
   "id": "94ca1f6c",
   "metadata": {},
   "outputs": [
    {
     "name": "stdout",
     "output_type": "stream",
     "text": [
      "Top 10 Common Premises Descriptions:\n",
      "STREET                                          105\n",
      "SIDEWALK                                         62\n",
      "PARKING LOT                                      46\n",
      "MULTI-UNIT DWELLING (APARTMENT, DUPLEX, ETC)     45\n",
      "SINGLE FAMILY DWELLING                           25\n",
      "VEHICLE, PASSENGER/TRUCK                         21\n",
      "OTHER BUSINESS                                   19\n",
      "DEPARTMENT STORE                                 17\n",
      "OTHER STORE                                      14\n",
      "LA UNION STATION (NOT LINE SPECIFIC)             13\n",
      "Name: Premis_Desc, dtype: int64\n"
     ]
    }
   ],
   "source": [
    "# Identifing common premises descriptions where crimes occur\n",
    "\n",
    "common_premises = df['Premis_Desc'].value_counts().head(10)\n",
    "print(\"Top 10 Common Premises Descriptions:\")\n",
    "print(common_premises)\n"
   ]
  },
  {
   "cell_type": "markdown",
   "id": "ffdfd83d",
   "metadata": {},
   "source": [
    "# STATUS ANALYSIS\n",
    "\n",
    "   - Examine the status of reported crimes.\n",
    "   - Classify crimes based on their current status.\n",
    "\n"
   ]
  },
  {
   "cell_type": "code",
   "execution_count": 45,
   "id": "6e25f7af",
   "metadata": {},
   "outputs": [
    {
     "data": {
      "text/plain": [
       "array(['AO', 'IC', 'AA', 'JO'], dtype=object)"
      ]
     },
     "execution_count": 45,
     "metadata": {},
     "output_type": "execute_result"
    }
   ],
   "source": [
    "#Type of status present\n",
    "\n",
    "df[\"Status\"].unique()"
   ]
  },
  {
   "cell_type": "code",
   "execution_count": 46,
   "id": "cb754a73",
   "metadata": {},
   "outputs": [
    {
     "name": "stdout",
     "output_type": "stream",
     "text": [
      "Crimes for AO status are: \n",
      " 0                               BATTERY - SIMPLE ASSAULT\n",
      "17                                       BRANDISH WEAPON\n",
      "47                                               ROBBERY\n",
      "67              VANDALISM - MISDEAMEANOR ($399 OR UNDER)\n",
      "89                                  DISTURBING THE PEACE\n",
      "121                            OTHER MISCELLANEOUS CRIME\n",
      "129                                            EXTORTION\n",
      "214                       VIOLATION OF RESTRAINING ORDER\n",
      "299                                              ROBBERY\n",
      "316                            OTHER MISCELLANEOUS CRIME\n",
      "318                                BURGLARY FROM VEHICLE\n",
      "329                                      ORAL COPULATION\n",
      "335                                 DISTURBING THE PEACE\n",
      "341    CRM AGNST CHLD (13 OR UNDER) (14-15 & SUSP 10 ...\n",
      "342                                     VEHICLE - STOLEN\n",
      "352       ASSAULT WITH DEADLY WEAPON, AGGRAVATED ASSAULT\n",
      "355       ASSAULT WITH DEADLY WEAPON, AGGRAVATED ASSAULT\n",
      "357             VANDALISM - MISDEAMEANOR ($399 OR UNDER)\n",
      "358                       VIOLATION OF RESTRAINING ORDER\n",
      "364    VANDALISM - FELONY ($400 & OVER, ALL CHURCH VA...\n",
      "400       ASSAULT WITH DEADLY WEAPON, AGGRAVATED ASSAULT\n",
      "402             VANDALISM - MISDEAMEANOR ($399 OR UNDER)\n",
      "429                             BATTERY - SIMPLE ASSAULT\n",
      "474                                             BURGLARY\n",
      "Name: Crm_Cd_Desc, dtype: object\n",
      "\n",
      "\n",
      "Total no of AO crimes as per crime code description:  24\n"
     ]
    }
   ],
   "source": [
    "#CRIMES BASED ON THEIR CURRENT STATUS -AO[Arrests for Offence]\n",
    "\n",
    "\n",
    "df[df[\"Status\"]==\"AO\"][\"Crm_Cd_Desc\"]\n",
    "\n",
    "print(\"Crimes for AO status are: \\n\",df[df[\"Status\"]==\"AO\"][\"Crm_Cd_Desc\"])\n",
    "print()\n",
    "print(\"\\nTotal no of AO crimes as per crime code description: \",df[df[\"Status\"]==\"AO\"][\"Crm_Cd_Desc\"].size)"
   ]
  },
  {
   "cell_type": "code",
   "execution_count": 47,
   "id": "bd9ba1ea",
   "metadata": {},
   "outputs": [
    {
     "name": "stdout",
     "output_type": "stream",
     "text": [
      "Crimes for AA status are: \n",
      " 9      THEFT-GRAND ($950.01 & OVER)EXCPT,GUNS,FOWL,LI...\n",
      "14        ASSAULT WITH DEADLY WEAPON, AGGRAVATED ASSAULT\n",
      "46                              VIOLATION OF COURT ORDER\n",
      "55        ASSAULT WITH DEADLY WEAPON, AGGRAVATED ASSAULT\n",
      "70     VANDALISM - FELONY ($400 & OVER, ALL CHURCH VA...\n",
      "83                                               ROBBERY\n",
      "114    VANDALISM - FELONY ($400 & OVER, ALL CHURCH VA...\n",
      "115                                              ROBBERY\n",
      "128       ASSAULT WITH DEADLY WEAPON, AGGRAVATED ASSAULT\n",
      "177                                        THEFT, PERSON\n",
      "206                                        BIKE - STOLEN\n",
      "212                     DOCUMENT FORGERY / STOLEN FELONY\n",
      "213                                              ROBBERY\n",
      "223                                              ROBBERY\n",
      "237                                             BURGLARY\n",
      "240                                    ATTEMPTED ROBBERY\n",
      "250    VANDALISM - FELONY ($400 & OVER, ALL CHURCH VA...\n",
      "287                                          TRESPASSING\n",
      "310                                     FAILURE TO YIELD\n",
      "325    VANDALISM - FELONY ($400 & OVER, ALL CHURCH VA...\n",
      "337    VANDALISM - FELONY ($400 & OVER, ALL CHURCH VA...\n",
      "350               CRIMINAL THREATS - NO WEAPON DISPLAYED\n",
      "373       ASSAULT WITH DEADLY WEAPON, AGGRAVATED ASSAULT\n",
      "391                              BATTERY POLICE (SIMPLE)\n",
      "398       ASSAULT WITH DEADLY WEAPON, AGGRAVATED ASSAULT\n",
      "417                             BATTERY - SIMPLE ASSAULT\n",
      "423       ASSAULT WITH DEADLY WEAPON, AGGRAVATED ASSAULT\n",
      "Name: Crm_Cd_Desc, dtype: object\n",
      "\n",
      "\n",
      "Total no of AA crimes as per crime code description:  27\n"
     ]
    }
   ],
   "source": [
    "#CRIMES BASED ON THEIR CURRENT STATUS -AA[Attempted Assault]\n",
    "\n",
    "df[df[\"Status\"]==\"AA\"][\"Crm_Cd_Desc\"]\n",
    "\n",
    "print(\"Crimes for AA status are: \\n\" ,df[df[\"Status\"]==\"AA\"][\"Crm_Cd_Desc\"])\n",
    "print()\n",
    "print(\"\\nTotal no of AA crimes as per crime code description: \",df[df[\"Status\"]==\"AA\"][\"Crm_Cd_Desc\"].size)"
   ]
  },
  {
   "cell_type": "code",
   "execution_count": 48,
   "id": "bfb7fc61",
   "metadata": {},
   "outputs": [
    {
     "name": "stdout",
     "output_type": "stream",
     "text": [
      "Crimes for IC status are: \n",
      " 1                               BATTERY - SIMPLE ASSAULT\n",
      "2               VANDALISM - MISDEAMEANOR ($399 OR UNDER)\n",
      "3      VANDALISM - FELONY ($400 & OVER, ALL CHURCH VA...\n",
      "4               SHOPLIFTING - PETTY THEFT ($950 & UNDER)\n",
      "5                              OTHER MISCELLANEOUS CRIME\n",
      "                             ...                        \n",
      "494                             BATTERY - SIMPLE ASSAULT\n",
      "495                             BATTERY - SIMPLE ASSAULT\n",
      "496                             BATTERY - SIMPLE ASSAULT\n",
      "497                                     VEHICLE - STOLEN\n",
      "498             VANDALISM - MISDEAMEANOR ($399 OR UNDER)\n",
      "Name: Crm_Cd_Desc, Length: 447, dtype: object\n",
      "\n",
      "\n",
      "Total no of IC crimes as per crime code description:  447\n"
     ]
    }
   ],
   "source": [
    "#CRIMES BASED ON THEIR CURRENT STATUS -IC[Incident Code]\n",
    "\n",
    "df[df[\"Status\"]==\"IC\"][\"Crm_Cd_Desc\"]\n",
    "\n",
    "print(\"Crimes for IC status are: \\n\" ,df[df[\"Status\"]==\"IC\"][\"Crm_Cd_Desc\"])\n",
    "print()\n",
    "print(\"\\nTotal no of IC crimes as per crime code description: \",df[df[\"Status\"]==\"IC\"][\"Crm_Cd_Desc\"].size)"
   ]
  },
  {
   "cell_type": "code",
   "execution_count": 49,
   "id": "458f08e3",
   "metadata": {},
   "outputs": [
    {
     "name": "stdout",
     "output_type": "stream",
     "text": [
      "Crimes for JO status are: \n",
      " 351    BATTERY - SIMPLE ASSAULT\n",
      "Name: Crm_Cd_Desc, dtype: object\n",
      "\n",
      "\n",
      "Total no of JO crimes as per crime code description:  1\n"
     ]
    }
   ],
   "source": [
    "#CRIMES BASED ON THEIR CURRENT STATUS -JO[Juvinile Offence]\n",
    "\n",
    "df[df[\"Status\"]==\"JO\"][\"Crm_Cd_Desc\"]\n",
    "\n",
    "print(\"Crimes for JO status are: \\n\" ,df[df[\"Status\"]==\"JO\"][\"Crm_Cd_Desc\"])\n",
    "print()\n",
    "print(\"\\nTotal no of JO crimes as per crime code description: \",df[df[\"Status\"]==\"JO\"][\"Crm_Cd_Desc\"].size)"
   ]
  },
  {
   "cell_type": "code",
   "execution_count": 50,
   "id": "5668525f",
   "metadata": {},
   "outputs": [
    {
     "data": {
      "image/png": "[encoded data removed]",
      "text/plain": [
       "<Figure size 800x600 with 1 Axes>"
      ]
     },
     "metadata": {},
     "output_type": "display_data"
    }
   ],
   "source": [
    "#GRAPHICAL REPRESENTATION OF THE CRIME_STATUS USING A PIE CHART\n",
    "\n",
    "status_counts = df['Status'].value_counts()\n",
    "\n",
    "custom_colors = ['skyblue', 'salmon', 'lightgreen', 'gold']  \n",
    "plt.figure(figsize=(8, 6))\n",
    "plt.pie(status_counts, labels=status_counts.index, autopct='%1.1f%%', colors=['#1f77b4', '#ff7f0e', '#2ca02c',\"#FF6833\"], startangle=180)\n",
    "plt.title('Status of Reported Crimes')\n",
    "plt.axis('equal')\n",
    "plt.show()\n"
   ]
  },
  {
   "cell_type": "markdown",
   "id": "2904f396",
   "metadata": {},
   "source": [
    "<div style=\"background-color: #f9d5e5; color: #a74c92; padding: 10px;\">\n",
    "    <h3>Conclusion</h3>\n",
    "    <ul>\n",
    "        <li>As per the analysis, the Central region of Los Angeles exhibits more crime compared to other regions. Increased law enforcement is required in that area to mitigate these crimes.</li>\n",
    "        <li>Common crimes in LA include Burglary from Vehicle, Battery - Simple Assault, Theft Plain - Petty, Shoplifting - Petty Theft, and Vehicle - Stolen. Preventive measures and targeted enforcement strategies are necessary to address these crimes.</li>\n",
    "        <li>There is a noticeable decrease in reported crimes after 2020, possibly influenced by the pandemic.</li>\n",
    "        <li>Victim demographic analysis reveals that crimes primarily happen to males. Support services should be provided to assist victims in coping with crime trauma.</li>\n",
    "        <li>Additionally, the analysis reveals the presence of Juvenile Offenses (JO), indicating crimes committed by minors. Counseling services should be provided to prevent future offenses by minors.</li>\n",
    "    </ul>\n",
    "</div>\n"
   ]
  },
  {
   "cell_type": "raw",
   "id": "648fe5fa",
   "metadata": {},
   "source": [
    "Note- For better visual please open it in Jupyter notebook. Thank You..!"
   ]
  }
 ],
 "metadata": {
  "kernelspec": {
   "display_name": "Python 3 (ipykernel)",
   "language": "python",
   "name": "python3"
  },
  "language_info": {
   "codemirror_mode": {
    "name": "ipython",
    "version": 3
   },
   "file_extension": ".py",
   "mimetype": "text/x-python",
   "name": "python",
   "nbconvert_exporter": "python",
   "pygments_lexer": "ipython3",
   "version": "3.10.9"
  }
 },
 "nbformat": 4,
 "nbformat_minor": 5
}
